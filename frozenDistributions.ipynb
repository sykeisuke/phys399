{
 "cells": [
  {
   "cell_type": "code",
   "execution_count": 1,
   "id": "30162efe",
   "metadata": {},
   "outputs": [],
   "source": [
    "from scipy import stats\n",
    "\n",
    "# Create a binomial distribution object for our fair coin\n",
    "# n=50 trials, p=0.5 probability of success\n",
    "fair_coin = stats.binom(n=50, p=0.5)"
   ]
  },
  {
   "cell_type": "code",
   "execution_count": 2,
   "id": "a7171933",
   "metadata": {},
   "outputs": [
    {
     "name": "stdout",
     "output_type": "stream",
     "text": [
      "P(exactly 25 heads) = 0.1123\n"
     ]
    }
   ],
   "source": [
    "exact_prob = fair_coin.pmf(25)  # PMF = Probability Mass Function\n",
    "print(f\"P(exactly 25 heads) = {exact_prob:.4f}\")"
   ]
  },
  {
   "cell_type": "code",
   "execution_count": 3,
   "id": "5013b99c",
   "metadata": {},
   "outputs": [
    {
     "name": "stdout",
     "output_type": "stream",
     "text": [
      "P(30 or fewer heads) = 0.9405\n"
     ]
    }
   ],
   "source": [
    "cumulative_prob = fair_coin.cdf(30)  # CDF = Cumulative Distribution Function\n",
    "print(f\"P(30 or fewer heads) = {cumulative_prob:.4f}\")"
   ]
  },
  {
   "cell_type": "code",
   "execution_count": 4,
   "id": "9318ee38",
   "metadata": {},
   "outputs": [
    {
     "name": "stdout",
     "output_type": "stream",
     "text": [
      "P(more than 35 heads) = 0.0013\n"
     ]
    }
   ],
   "source": [
    "p_value_style = 1 - fair_coin.cdf(35)\n",
    "print(f\"P(more than 35 heads) = {p_value_style:.4f}\")"
   ]
  },
  {
   "cell_type": "code",
   "execution_count": 5,
   "id": "fd8c0509",
   "metadata": {},
   "outputs": [
    {
     "name": "stdout",
     "output_type": "stream",
     "text": [
      "Five experiments: [25 23 16 17 27]\n"
     ]
    }
   ],
   "source": [
    "# Generate 5 experiments of 50 tosses each\n",
    "experiments = fair_coin.rvs(5)\n",
    "print(f\"Five experiments: {experiments}\")"
   ]
  }
 ],
 "metadata": {
  "kernelspec": {
   "display_name": "pytest",
   "language": "python",
   "name": "python3"
  },
  "language_info": {
   "codemirror_mode": {
    "name": "ipython",
    "version": 3
   },
   "file_extension": ".py",
   "mimetype": "text/x-python",
   "name": "python",
   "nbconvert_exporter": "python",
   "pygments_lexer": "ipython3",
   "version": "3.9.23"
  }
 },
 "nbformat": 4,
 "nbformat_minor": 5
}
