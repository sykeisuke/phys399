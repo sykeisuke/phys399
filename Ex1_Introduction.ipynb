{
 "cells": [
  {
   "cell_type": "markdown",
   "id": "9e4089cb",
   "metadata": {},
   "source": [
    "# Exercise 1: Introduction to Python"
   ]
  },
  {
   "cell_type": "code",
   "execution_count": 12,
   "id": "31f9fb83",
   "metadata": {},
   "outputs": [
    {
     "name": "stdout",
     "output_type": "stream",
     "text": [
      "Hello, PHYS399!\n"
     ]
    }
   ],
   "source": [
    "# --- 1. Hello World ---\n",
    "print(\"Hello, PHYS399!\")"
   ]
  },
  {
   "cell_type": "code",
   "execution_count": 2,
   "id": "34578087",
   "metadata": {},
   "outputs": [
    {
     "name": "stdout",
     "output_type": "stream",
     "text": [
      "x = 5\n"
     ]
    }
   ],
   "source": [
    "# --- 2. Variables and Data Types ---\n",
    "# Integers\n",
    "x = 5\n",
    "print(\"x =\", x)"
   ]
  },
  {
   "cell_type": "code",
   "execution_count": 3,
   "id": "7f75e650",
   "metadata": {},
   "outputs": [
    {
     "name": "stdout",
     "output_type": "stream",
     "text": [
      "y = 3.14\n"
     ]
    }
   ],
   "source": [
    "# Floats\n",
    "y = 3.14\n",
    "print(\"y =\", y)"
   ]
  },
  {
   "cell_type": "code",
   "execution_count": 4,
   "id": "25165975",
   "metadata": {},
   "outputs": [
    {
     "name": "stdout",
     "output_type": "stream",
     "text": [
      "Hello, Keisuke\n"
     ]
    }
   ],
   "source": [
    "# Strings\n",
    "name = \"Keisuke\"\n",
    "print(\"Hello,\", name)"
   ]
  },
  {
   "cell_type": "code",
   "execution_count": 5,
   "id": "a358dce6",
   "metadata": {},
   "outputs": [
    {
     "name": "stdout",
     "output_type": "stream",
     "text": [
      "Is student: True\n"
     ]
    }
   ],
   "source": [
    "# Boolean\n",
    "is_student = True\n",
    "print(\"Is student:\", is_student)"
   ]
  },
  {
   "cell_type": "code",
   "execution_count": 6,
   "id": "45f3f3ec",
   "metadata": {},
   "outputs": [
    {
     "name": "stdout",
     "output_type": "stream",
     "text": [
      "a + b = 13\n",
      "a - b = 7\n",
      "a * b = 30\n",
      "a / b = 3.3333333333333335\n",
      "a // b = 3\n",
      "a % b = 1\n",
      "a ** b = 1000\n"
     ]
    }
   ],
   "source": [
    "# --- 3. Arithmetic Operations ---\n",
    "a = 10\n",
    "b = 3\n",
    "print(\"a + b =\", a + b)\n",
    "print(\"a - b =\", a - b)\n",
    "print(\"a * b =\", a * b)\n",
    "print(\"a / b =\", a / b)  # Division\n",
    "print(\"a // b =\", a // b) # Floor division\n",
    "print(\"a % b =\", a % b)   # Modulus\n",
    "print(\"a ** b =\", a ** b) # Exponentiation\n"
   ]
  },
  {
   "cell_type": "code",
   "execution_count": 7,
   "id": "270f5f3c",
   "metadata": {},
   "outputs": [
    {
     "name": "stdout",
     "output_type": "stream",
     "text": [
      "Physics\n",
      "First letter: P\n",
      "Slice (0-3): Phy\n",
      "Length: 7\n"
     ]
    }
   ],
   "source": [
    "# --- 4. Strings ---\n",
    "greeting = \"Physics\"\n",
    "print(greeting)\n",
    "print(\"First letter:\", greeting[0])\n",
    "print(\"Slice (0-3):\", greeting[0:3])\n",
    "print(\"Length:\", len(greeting))"
   ]
  },
  {
   "cell_type": "code",
   "execution_count": 8,
   "id": "707e5418",
   "metadata": {},
   "outputs": [
    {
     "name": "stdout",
     "output_type": "stream",
     "text": [
      "Course: PHYS399\n"
     ]
    }
   ],
   "source": [
    "# String concatenation\n",
    "course = \"PHYS\" + \"399\"\n",
    "print(\"Course:\", course)"
   ]
  },
  {
   "cell_type": "code",
   "execution_count": 10,
   "id": "58ff7410",
   "metadata": {},
   "outputs": [
    {
     "name": "stdout",
     "output_type": "stream",
     "text": [
      "Enter your name: yoshihara\n",
      "Hello, yoshihara\n"
     ]
    }
   ],
   "source": [
    "# --- 5. Input and Output ---\n",
    "name = input(\"Enter your name: \")\n",
    "print(\"Hello,\", name)\n"
   ]
  },
  {
   "cell_type": "code",
   "execution_count": 11,
   "id": "67305ab9",
   "metadata": {},
   "outputs": [
    {
     "name": "stdout",
     "output_type": "stream",
     "text": [
      "Kinetic Energy = 9.0 J\n"
     ]
    }
   ],
   "source": [
    "# --- 6. Mini Exercise ---\n",
    "# Calculate kinetic energy: KE = 0.5 * m * v^2\n",
    "m = 2.0  # mass in kg\n",
    "v = 3.0  # velocity in m/s\n",
    "KE = 0.5 * m * v**2\n",
    "print(\"Kinetic Energy =\", KE, \"J\")"
   ]
  },
  {
   "cell_type": "code",
   "execution_count": null,
   "id": "fb025d7b",
   "metadata": {},
   "outputs": [],
   "source": []
  }
 ],
 "metadata": {
  "kernelspec": {
   "display_name": "Python 3 (ipykernel)",
   "language": "python",
   "name": "python3"
  },
  "language_info": {
   "codemirror_mode": {
    "name": "ipython",
    "version": 3
   },
   "file_extension": ".py",
   "mimetype": "text/x-python",
   "name": "python",
   "nbconvert_exporter": "python",
   "pygments_lexer": "ipython3",
   "version": "3.11.13"
  }
 },
 "nbformat": 4,
 "nbformat_minor": 5
}
