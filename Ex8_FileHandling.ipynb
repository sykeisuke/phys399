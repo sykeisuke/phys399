{
 "cells": [
  {
   "cell_type": "markdown",
   "id": "4f92fbbb",
   "metadata": {},
   "source": [
    "# Exercise 8: File I/O and Pandas Intro"
   ]
  },
  {
   "cell_type": "code",
   "execution_count": 7,
   "id": "3ace90e2",
   "metadata": {},
   "outputs": [
    {
     "name": "stdout",
     "output_type": "stream",
     "text": [
      "Contents of data.txt:\n",
      "0 0\n",
      "1 1\n",
      "2 4\n",
      "3 9\n",
      "4 16\n"
     ]
    }
   ],
   "source": [
    "# --- 1. Writing and reading text files ---\n",
    "# Write data to a text file\n",
    "with open(\"data/data_ex8.txt\", \"w\") as f:\n",
    "    for i in range(5):\n",
    "        f.write(f\"{i} {i**2}\\n\")\n",
    "\n",
    "# Read data from a text file\n",
    "with open(\"data/data_ex8.txt\", \"r\") as f:\n",
    "    lines = f.readlines()\n",
    "    print(\"Contents of data.txt:\")\n",
    "    for line in lines:\n",
    "        print(line.strip())"
   ]
  },
  {
   "cell_type": "code",
   "execution_count": 8,
   "id": "496a001b",
   "metadata": {},
   "outputs": [
    {
     "name": "stdout",
     "output_type": "stream",
     "text": [
      "Loaded from CSV with NumPy:\n",
      " [[1. 2. 3.]\n",
      " [4. 5. 6.]]\n"
     ]
    }
   ],
   "source": [
    "# --- 2. CSV with NumPy ---\n",
    "import numpy as np\n",
    "\n",
    "data = np.array([[1, 2, 3], [4, 5, 6]])\n",
    "np.savetxt(\"data/data_ex8.csv\", data, delimiter=\",\")\n",
    "\n",
    "loaded = np.loadtxt(\"data/data_ex8.csv\", delimiter=\",\")\n",
    "print(\"Loaded from CSV with NumPy:\\n\", loaded)"
   ]
  },
  {
   "cell_type": "code",
   "execution_count": 9,
   "id": "152e4a43",
   "metadata": {},
   "outputs": [
    {
     "name": "stdout",
     "output_type": "stream",
     "text": [
      "DataFrame:\n",
      "   trial  measurement  error\n",
      "0      1          2.3    0.1\n",
      "1      2          2.5    0.1\n",
      "2      3          2.1    0.2\n",
      "3      4          2.4    0.1\n",
      "4      5          2.2    0.2\n"
     ]
    }
   ],
   "source": [
    "# --- 3. Pandas DataFrame basics ---\n",
    "import pandas as pd\n",
    "\n",
    "df = pd.DataFrame({\n",
    "    \"trial\": [1, 2, 3, 4, 5],\n",
    "    \"measurement\": [2.3, 2.5, 2.1, 2.4, 2.2],\n",
    "    \"error\": [0.1, 0.1, 0.2, 0.1, 0.2]\n",
    "})\n",
    "\n",
    "print(\"DataFrame:\")\n",
    "print(df)"
   ]
  },
  {
   "cell_type": "code",
   "execution_count": 10,
   "id": "3ba82669",
   "metadata": {},
   "outputs": [
    {
     "name": "stdout",
     "output_type": "stream",
     "text": [
      "Mean of measurements: 2.3\n",
      "Standard deviation: 0.1581138830084189\n",
      "Filter trials with measurement > 2.3:\n",
      "   trial  measurement  error\n",
      "1      2          2.5    0.1\n",
      "3      4          2.4    0.1\n"
     ]
    }
   ],
   "source": [
    "# --- 4. DataFrame operations ---\n",
    "print(\"Mean of measurements:\", df[\"measurement\"].mean())\n",
    "print(\"Standard deviation:\", df[\"measurement\"].std())\n",
    "\n",
    "print(\"Filter trials with measurement > 2.3:\")\n",
    "print(df[df[\"measurement\"] > 2.3])"
   ]
  },
  {
   "cell_type": "code",
   "execution_count": 11,
   "id": "42a3289c",
   "metadata": {},
   "outputs": [
    {
     "name": "stdout",
     "output_type": "stream",
     "text": [
      "Loaded DataFrame from CSV:\n",
      "   trial  measurement  error\n",
      "0      1          2.3    0.1\n",
      "1      2          2.5    0.1\n",
      "2      3          2.1    0.2\n",
      "3      4          2.4    0.1\n",
      "4      5          2.2    0.2\n"
     ]
    }
   ],
   "source": [
    "# --- 5. Reading CSV into Pandas ---\n",
    "df.to_csv(\"data/exp_ex8.csv\", index=False)\n",
    "df_loaded = pd.read_csv(\"data/exp_ex8.csv\")\n",
    "print(\"Loaded DataFrame from CSV:\")\n",
    "print(df_loaded)"
   ]
  },
  {
   "cell_type": "code",
   "execution_count": 12,
   "id": "246f3465",
   "metadata": {},
   "outputs": [
    {
     "name": "stdout",
     "output_type": "stream",
     "text": [
      "DataFrame with normalized measurements:\n",
      "   trial  measurement  error  normalized\n",
      "0      1          2.3    0.1    0.000000\n",
      "1      2          2.5    0.1    1.264911\n",
      "2      3          2.1    0.2   -1.264911\n",
      "3      4          2.4    0.1    0.632456\n",
      "4      5          2.2    0.2   -0.632456\n"
     ]
    }
   ],
   "source": [
    "# --- 6. Mini Exercise ---\n",
    "# Suppose we have experimental results in CSV.\n",
    "# Calculate mean and std of measurements, and normalize.\n",
    "\n",
    "mean_val = df_loaded[\"measurement\"].mean()\n",
    "std_val = df_loaded[\"measurement\"].std()\n",
    "df_loaded[\"normalized\"] = (df_loaded[\"measurement\"] - mean_val) / std_val\n",
    "\n",
    "print(\"DataFrame with normalized measurements:\")\n",
    "print(df_loaded)"
   ]
  },
  {
   "cell_type": "code",
   "execution_count": null,
   "id": "7c0f4058",
   "metadata": {},
   "outputs": [],
   "source": []
  }
 ],
 "metadata": {
  "kernelspec": {
   "display_name": "Python 3 (ipykernel)",
   "language": "python",
   "name": "python3"
  },
  "language_info": {
   "codemirror_mode": {
    "name": "ipython",
    "version": 3
   },
   "file_extension": ".py",
   "mimetype": "text/x-python",
   "name": "python",
   "nbconvert_exporter": "python",
   "pygments_lexer": "ipython3",
   "version": "3.11.13"
  }
 },
 "nbformat": 4,
 "nbformat_minor": 5
}
