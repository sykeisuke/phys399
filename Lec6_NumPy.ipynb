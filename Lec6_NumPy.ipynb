{
 "cells": [
  {
   "cell_type": "markdown",
   "id": "2201cd78",
   "metadata": {},
   "source": [
    "# Lecture 6: NumPy Basics"
   ]
  },
  {
   "cell_type": "code",
   "execution_count": 3,
   "id": "3e874f57",
   "metadata": {},
   "outputs": [
    {
     "name": "stdout",
     "output_type": "stream",
     "text": [
      "Array: [1 2 3 4 5]\n",
      "Zeros: [0. 0. 0. 0. 0.]\n",
      "Ones (2x3):\n",
      " [[1. 1. 1.]\n",
      " [1. 1. 1.]]\n",
      "Arange 0-10 step 2: [0 2 4 6 8]\n",
      "Linspace 0-1 with 5 points: [0.   0.25 0.5  0.75 1.  ]\n"
     ]
    }
   ],
   "source": [
    "import numpy as np\n",
    "\n",
    "# --- 1. Creating arrays ---\n",
    "arr1 = np.array([1, 2, 3, 4, 5])\n",
    "print(\"Array:\", arr1)\n",
    "\n",
    "arr2 = np.zeros(5)\n",
    "print(\"Zeros:\", arr2)\n",
    "\n",
    "arr3 = np.ones((2, 3))\n",
    "print(\"Ones (2x3):\\n\", arr3)\n",
    "\n",
    "arr4 = np.arange(0, 10, 2)\n",
    "print(\"Arange 0-10 step 2:\", arr4)\n",
    "\n",
    "arr5 = np.linspace(0, 1, 5)\n",
    "print(\"Linspace 0-1 with 5 points:\", arr5)\n"
   ]
  },
  {
   "cell_type": "code",
   "execution_count": 15,
   "id": "7248a220",
   "metadata": {},
   "outputs": [
    {
     "name": "stdout",
     "output_type": "stream",
     "text": [
      "data[0]: 10\n",
      "data[1:4]: [20 30 40]\n",
      "data[-1]: 50\n"
     ]
    }
   ],
   "source": [
    "# --- 2. Indexing and slicing ---\n",
    "data = np.array([10, 20, 30, 40, 50])\n",
    "print(\"data[0]:\", data[0])\n",
    "print(\"data[1:4]:\", data[1:4])\n",
    "print(\"data[-1]:\", data[-1])"
   ]
  },
  {
   "cell_type": "code",
   "execution_count": 18,
   "id": "7711d138",
   "metadata": {},
   "outputs": [
    {
     "name": "stdout",
     "output_type": "stream",
     "text": [
      "a+b: [5 7 9]\n",
      "a*b: [ 4 10 18]\n",
      "a**2: [1 4 9]\n"
     ]
    }
   ],
   "source": [
    "# --- 3. Array operations ---\n",
    "a = np.array([1, 2, 3])\n",
    "b = np.array([4, 5, 6])\n",
    "\n",
    "print(\"a+b:\", a + b)\n",
    "print(\"a*b:\", a * b)\n",
    "print(\"a**2:\", a**2)"
   ]
  },
  {
   "cell_type": "code",
   "execution_count": 17,
   "id": "7b95d02b",
   "metadata": {},
   "outputs": [
    {
     "name": "stdout",
     "output_type": "stream",
     "text": [
      "Column vector a:\n",
      " [[1]\n",
      " [2]\n",
      " [3]]\n",
      "Column vector b:\n",
      " [[4]\n",
      " [5]\n",
      " [6]]\n",
      "a_col + b_col:\n",
      " [[5]\n",
      " [7]\n",
      " [9]]\n",
      "a_col * b_col:\n",
      " [[ 4]\n",
      " [10]\n",
      " [18]]\n"
     ]
    }
   ],
   "source": [
    "# --- 4. Column vectors (3x1) ---\n",
    "a_col = np.array([[1], [2], [3]])\n",
    "b_col = np.array([[4], [5], [6]])\n",
    "print(\"Column vector a:\\n\", a_col)\n",
    "print(\"Column vector b:\\n\", b_col)\n",
    "print(\"a_col + b_col:\\n\", a_col + b_col)\n",
    "print(\"a_col * b_col:\\n\", a_col * b_col)"
   ]
  },
  {
   "cell_type": "code",
   "execution_count": 21,
   "id": "d358f573",
   "metadata": {},
   "outputs": [
    {
     "name": "stdout",
     "output_type": "stream",
     "text": [
      "Matrix:\n",
      " [[1 2 3]\n",
      " [4 5 6]]\n",
      "Shape: (2, 3)\n",
      "matrix[0,1]: 2\n",
      "Matrix A:\n",
      " [[1 2]\n",
      " [3 4]]\n",
      "Matrix B:\n",
      " [[5 6]\n",
      " [7 8]]\n",
      "A @ B (matrix product):\n",
      " [[19 22]\n",
      " [43 50]]\n"
     ]
    }
   ],
   "source": [
    "# --- 5. 2D arrays ---\n",
    "matrix = np.array([[1, 2, 3], [4, 5, 6]])\n",
    "print(\"Matrix:\\n\", matrix)\n",
    "print(\"Shape:\", matrix.shape)\n",
    "print(\"matrix[0,1]:\", matrix[0,1])\n",
    "\n",
    "# Multiplication\n",
    "A = np.array([[1, 2], [3, 4]])\n",
    "B = np.array([[5, 6], [7, 8]])\n",
    "print(\"Matrix A:\\n\", A)\n",
    "print(\"Matrix B:\\n\", B)\n",
    "print(\"A @ B (matrix product):\\n\", A @ B)"
   ]
  },
  {
   "cell_type": "code",
   "execution_count": 20,
   "id": "830da103",
   "metadata": {},
   "outputs": [
    {
     "name": "stdout",
     "output_type": "stream",
     "text": [
      "Mean of arr1: 3.0\n",
      "Standard deviation of arr1: 1.4142135623730951\n",
      "Max of arr1: 5\n"
     ]
    }
   ],
   "source": [
    "# --- 6. Useful functions ---\n",
    "print(\"Mean of arr1:\", np.mean(arr1))\n",
    "print(\"Standard deviation of arr1:\", np.std(arr1))\n",
    "print(\"Max of arr1:\", np.max(arr1))"
   ]
  },
  {
   "cell_type": "code",
   "execution_count": 19,
   "id": "24078152",
   "metadata": {},
   "outputs": [
    {
     "name": "stdout",
     "output_type": "stream",
     "text": [
      "First 10 samples: [ 0.27017776  0.57281785  2.76203996  0.85435987 -0.42435159 -1.51404309\n",
      " -0.22156007 -0.31571471 -0.74835737  2.57349909]\n",
      "Mean: -0.03064101951982734\n",
      "Std Dev: 1.0313609696145891\n"
     ]
    }
   ],
   "source": [
    "# --- 7. Mini Exercise ---\n",
    "# Simulate 1000 measurements of a Gaussian-distributed variable\n",
    "# with mean=0 and sigma=1\n",
    "\n",
    "samples = np.random.normal(0, 1, 1000)\n",
    "print(\"First 10 samples:\", samples[:10])\n",
    "\n",
    "print(\"Mean:\", np.mean(samples))\n",
    "print(\"Std Dev:\", np.std(samples))"
   ]
  },
  {
   "cell_type": "code",
   "execution_count": null,
   "id": "194f3ae3",
   "metadata": {},
   "outputs": [],
   "source": []
  }
 ],
 "metadata": {
  "kernelspec": {
   "display_name": "Python 3 (ipykernel)",
   "language": "python",
   "name": "python3"
  },
  "language_info": {
   "codemirror_mode": {
    "name": "ipython",
    "version": 3
   },
   "file_extension": ".py",
   "mimetype": "text/x-python",
   "name": "python",
   "nbconvert_exporter": "python",
   "pygments_lexer": "ipython3",
   "version": "3.9.12"
  }
 },
 "nbformat": 4,
 "nbformat_minor": 5
}
