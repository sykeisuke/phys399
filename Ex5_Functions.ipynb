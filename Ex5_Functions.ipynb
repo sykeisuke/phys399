{
 "cells": [
  {
   "cell_type": "markdown",
   "id": "da917d45",
   "metadata": {},
   "source": [
    "# Exercise 5: Functions"
   ]
  },
  {
   "cell_type": "code",
   "execution_count": 1,
   "id": "62f37c90",
   "metadata": {},
   "outputs": [
    {
     "name": "stdout",
     "output_type": "stream",
     "text": [
      "Hello from a function!\n"
     ]
    }
   ],
   "source": [
    "# --- 1. Defining a simple function ---\n",
    "def greet():\n",
    "    print(\"Hello from a function!\")\n",
    "\n",
    "greet()\n"
   ]
  },
  {
   "cell_type": "code",
   "execution_count": 2,
   "id": "9db3fca5",
   "metadata": {},
   "outputs": [
    {
     "name": "stdout",
     "output_type": "stream",
     "text": [
      "Square of 3: 9\n"
     ]
    }
   ],
   "source": [
    "# --- 2. Function with parameters ---\n",
    "def square(x):\n",
    "    return x * x\n",
    "\n",
    "print(\"Square of 3:\", square(3))"
   ]
  },
  {
   "cell_type": "code",
   "execution_count": 3,
   "id": "5e7dd350",
   "metadata": {},
   "outputs": [
    {
     "name": "stdout",
     "output_type": "stream",
     "text": [
      "Kinetic energy (m=2, v=3): 9.0\n"
     ]
    }
   ],
   "source": [
    "# --- 3. Function with multiple parameters ---\n",
    "def kinetic_energy(m, v):\n",
    "    return 0.5 * m * v**2\n",
    "\n",
    "print(\"Kinetic energy (m=2, v=3):\", kinetic_energy(2, 3))\n"
   ]
  },
  {
   "cell_type": "code",
   "execution_count": 4,
   "id": "05d2b816",
   "metadata": {},
   "outputs": [
    {
     "name": "stdout",
     "output_type": "stream",
     "text": [
      "power(3): 9\n",
      "power(3, 3): 27\n"
     ]
    }
   ],
   "source": [
    "# --- 4. Default arguments ---\n",
    "def power(base, exp=2):\n",
    "    return base ** exp\n",
    "\n",
    "print(\"power(3):\", power(3))\n",
    "print(\"power(3, 3):\", power(3, 3))"
   ]
  },
  {
   "cell_type": "code",
   "execution_count": 5,
   "id": "6eb65e5e",
   "metadata": {},
   "outputs": [
    {
     "name": "stdout",
     "output_type": "stream",
     "text": [
      "Position: 10 Velocity: 5\n"
     ]
    }
   ],
   "source": [
    "# --- 5. Returning multiple values (tuple) ---\n",
    "def particle_motion(x0, v0, t):\n",
    "    x = x0 + v0 * t\n",
    "    v = v0\n",
    "    return x, v  # returns a tuple\n",
    "\n",
    "position, velocity = particle_motion(0, 5, 2)\n",
    "print(\"Position:\", position, \"Velocity:\", velocity)\n"
   ]
  },
  {
   "cell_type": "code",
   "execution_count": 6,
   "id": "561f8ee1",
   "metadata": {},
   "outputs": [
    {
     "name": "stdout",
     "output_type": "stream",
     "text": [
      "I am global\n",
      "I am local\n"
     ]
    }
   ],
   "source": [
    "# --- 6. Variable scope ---\n",
    "global_var = \"I am global\"\n",
    "\n",
    "def test_scope():\n",
    "    local_var = \"I am local\"\n",
    "    print(global_var)\n",
    "    print(local_var)\n",
    "\n",
    "test_scope()\n",
    "# print(local_var)  # This would cause an error"
   ]
  },
  {
   "cell_type": "code",
   "execution_count": 3,
   "id": "1fc3e860",
   "metadata": {},
   "outputs": [
    {
     "name": "stdout",
     "output_type": "stream",
     "text": [
      "Selected events: [{'name': 'pion', 'mass': 0.14, 'velocity': 90.0}, {'name': 'kaon', 'mass': 0.49, 'velocity': 25.0}]\n"
     ]
    }
   ],
   "source": [
    "# --- 7. Mini Exercise ---\n",
    "# Write a function filter_events(events, thr) that takes a list of events \n",
    "# and returns only those with momentum greater than the threshold.\n",
    "\n",
    "def momentum(m, v):\n",
    "    return m * v\n",
    "\n",
    "def filter_events(events, thr=10.0):\n",
    "    result = []\n",
    "    for e in events:\n",
    "        p = momentum(e[\"mass\"], e[\"velocity\"])\n",
    "        if p > thr:\n",
    "            result.append(e)\n",
    "    return result\n",
    "\n",
    "# Example events\n",
    "events = [\n",
    "    {\"name\": \"pion\",   \"mass\": 0.14, \"velocity\": 90.0},\n",
    "    {\"name\": \"kaon\",   \"mass\": 0.49, \"velocity\": 25.0},\n",
    "    {\"name\": \"proton\", \"mass\": 0.94, \"velocity\":  8.0},\n",
    "]\n",
    "\n",
    "# Run filter\n",
    "selected = filter_events(events, thr=10.0)\n",
    "print(\"Selected events:\", selected)"
   ]
  },
  {
   "cell_type": "code",
   "execution_count": null,
   "id": "245df1d6-fffc-469b-9231-5e69dae42392",
   "metadata": {},
   "outputs": [],
   "source": []
  }
 ],
 "metadata": {
  "kernelspec": {
   "display_name": "Python 3 (ipykernel)",
   "language": "python",
   "name": "python3"
  },
  "language_info": {
   "codemirror_mode": {
    "name": "ipython",
    "version": 3
   },
   "file_extension": ".py",
   "mimetype": "text/x-python",
   "name": "python",
   "nbconvert_exporter": "python",
   "pygments_lexer": "ipython3",
   "version": "3.11.13"
  }
 },
 "nbformat": 4,
 "nbformat_minor": 5
}
