{
 "cells": [
  {
   "cell_type": "markdown",
   "id": "0e8eb212",
   "metadata": {},
   "source": [
    "# Lecture 3: Loops - for and while"
   ]
  },
  {
   "cell_type": "code",
   "execution_count": 2,
   "id": "8ddec088",
   "metadata": {},
   "outputs": [
    {
     "name": "stdout",
     "output_type": "stream",
     "text": [
      "Iteration: 0\n",
      "Iteration: 1\n",
      "Iteration: 2\n",
      "Iteration: 3\n",
      "Iteration: 4\n"
     ]
    }
   ],
   "source": [
    "# --- 1. for loop with range() ---\n",
    "for i in range(5):\n",
    "    print(\"Iteration:\", i)"
   ]
  },
  {
   "cell_type": "code",
   "execution_count": 3,
   "id": "35eb6fad",
   "metadata": {},
   "outputs": [
    {
     "name": "stdout",
     "output_type": "stream",
     "text": [
      "Sum of 1 to 5 = 15\n"
     ]
    }
   ],
   "source": [
    "# --- 2. Summation with for loop ---\n",
    "total = 0\n",
    "for i in range(1, 6):\n",
    "    total += i\n",
    "print(\"Sum of 1 to 5 =\", total)"
   ]
  },
  {
   "cell_type": "code",
   "execution_count": 4,
   "id": "6e4027f6",
   "metadata": {},
   "outputs": [
    {
     "name": "stdout",
     "output_type": "stream",
     "text": [
      "count = 0\n",
      "count = 1\n",
      "count = 2\n",
      "count = 3\n",
      "count = 4\n"
     ]
    }
   ],
   "source": [
    "# --- 3. while loop ---\n",
    "count = 0\n",
    "while count < 5:\n",
    "    print(\"count =\", count)\n",
    "    count += 1"
   ]
  },
  {
   "cell_type": "code",
   "execution_count": 5,
   "id": "2d497ba6",
   "metadata": {},
   "outputs": [
    {
     "name": "stdout",
     "output_type": "stream",
     "text": [
      "0\n",
      "1\n",
      "2\n",
      "4\n",
      "5\n",
      "6\n"
     ]
    }
   ],
   "source": [
    "# --- 4. break and continue ---\n",
    "for i in range(10):\n",
    "    if i == 3:\n",
    "        continue  # skip this iteration\n",
    "    if i == 7:\n",
    "        break     # stop the loop\n",
    "    print(i)"
   ]
  },
  {
   "cell_type": "code",
   "execution_count": 6,
   "id": "c59a1932",
   "metadata": {},
   "outputs": [
    {
     "name": "stdout",
     "output_type": "stream",
     "text": [
      "i=0, j=0\n",
      "i=0, j=1\n",
      "i=1, j=0\n",
      "i=1, j=1\n",
      "i=2, j=0\n",
      "i=2, j=1\n"
     ]
    }
   ],
   "source": [
    "# --- 5. Nested loops ---\n",
    "for i in range(3):\n",
    "    for j in range(2):\n",
    "        print(f\"i={i}, j={j}\")"
   ]
  },
  {
   "cell_type": "code",
   "execution_count": 7,
   "id": "4debf408",
   "metadata": {},
   "outputs": [
    {
     "name": "stdout",
     "output_type": "stream",
     "text": [
      "Estimated pi: 3.1256\n"
     ]
    }
   ],
   "source": [
    "# --- 6. Mini Exercise ---\n",
    "# Monte Carlo estimation of pi\n",
    "# Generate random points (x, y) in [0,1]x[0,1]\n",
    "# Count how many fall inside the unit quarter circle\n",
    "\n",
    "import random\n",
    "N = 10000\n",
    "count_inside = 0\n",
    "\n",
    "for _ in range(N):\n",
    "    x = random.random()\n",
    "    y = random.random()\n",
    "    if x**2 + y**2 <= 1:\n",
    "        count_inside += 1\n",
    "\n",
    "pi_est = 4 * count_inside / N\n",
    "print(\"Estimated pi:\", pi_est)"
   ]
  },
  {
   "cell_type": "code",
   "execution_count": null,
   "id": "f30e9657",
   "metadata": {},
   "outputs": [],
   "source": []
  }
 ],
 "metadata": {
  "kernelspec": {
   "display_name": "Python 3 (ipykernel)",
   "language": "python",
   "name": "python3"
  },
  "language_info": {
   "codemirror_mode": {
    "name": "ipython",
    "version": 3
   },
   "file_extension": ".py",
   "mimetype": "text/x-python",
   "name": "python",
   "nbconvert_exporter": "python",
   "pygments_lexer": "ipython3",
   "version": "3.9.12"
  }
 },
 "nbformat": 4,
 "nbformat_minor": 5
}
