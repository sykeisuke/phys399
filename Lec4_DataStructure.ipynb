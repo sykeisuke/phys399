{
 "cells": [
  {
   "cell_type": "markdown",
   "id": "991f2b25",
   "metadata": {},
   "source": [
    "# Lecture4: Data Structures - List, Tuple, Set, Dictionary"
   ]
  },
  {
   "cell_type": "code",
   "execution_count": 2,
   "id": "e72e65a3",
   "metadata": {},
   "outputs": [
    {
     "name": "stdout",
     "output_type": "stream",
     "text": [
      "Fruits: ['apple', 'banana', 'cherry']\n",
      "First fruit: apple\n",
      "After append: ['apple', 'banana', 'cherry', 'orange']\n",
      "After remove: ['apple', 'cherry', 'orange']\n",
      "Fruit: apple\n",
      "Fruit: cherry\n",
      "Fruit: orange\n"
     ]
    }
   ],
   "source": [
    "# --- 1. Lists ---\n",
    "fruits = [\"apple\", \"banana\", \"cherry\"]\n",
    "print(\"Fruits:\", fruits)\n",
    "\n",
    "# Indexing\n",
    "print(\"First fruit:\", fruits[0])\n",
    "\n",
    "# Append and remove\n",
    "fruits.append(\"orange\")\n",
    "print(\"After append:\", fruits)\n",
    "\n",
    "fruits.remove(\"banana\")\n",
    "print(\"After remove:\", fruits)\n",
    "\n",
    "# Looping through a list\n",
    "for f in fruits:\n",
    "    print(\"Fruit:\", f)"
   ]
  },
  {
   "cell_type": "code",
   "execution_count": 3,
   "id": "56c636c5",
   "metadata": {},
   "outputs": [
    {
     "name": "stdout",
     "output_type": "stream",
     "text": [
      "Point: (3, 4)\n",
      "x = 3\n",
      "y = 4\n"
     ]
    }
   ],
   "source": [
    "# --- 2. Tuples (immutable lists) ---\n",
    "point = (3, 4)\n",
    "print(\"Point:\", point)\n",
    "print(\"x =\", point[0])\n",
    "print(\"y =\", point[1])"
   ]
  },
  {
   "cell_type": "code",
   "execution_count": 4,
   "id": "4be8827d",
   "metadata": {},
   "outputs": [
    {
     "name": "stdout",
     "output_type": "stream",
     "text": [
      "Set a: {1, 2, 3}\n",
      "Set b: {3, 4, 5}\n",
      "a | b = {1, 2, 3, 4, 5}\n",
      "a & b = {3}\n",
      "a - b = {1, 2}\n"
     ]
    }
   ],
   "source": [
    "# --- 3. Sets (unique elements) ---\n",
    "a = {1, 2, 3, 3}\n",
    "b = {3, 4, 5}\n",
    "print(\"Set a:\", a)\n",
    "print(\"Set b:\", b)\n",
    "\n",
    "# Union, intersection, difference\n",
    "print(\"a | b =\", a | b)\n",
    "print(\"a & b =\", a & b)\n",
    "print(\"a - b =\", a - b)\n"
   ]
  },
  {
   "cell_type": "code",
   "execution_count": 6,
   "id": "4fc656d7",
   "metadata": {},
   "outputs": [
    {
     "name": "stdout",
     "output_type": "stream",
     "text": [
      "Student: {'name': 'Alice', 'age': 20, 'major': 'Physics'}\n",
      "Name: Alice\n",
      "Updated: {'name': 'Alice', 'age': 20, 'major': 'Physics', 'gpa': 3.7}\n",
      "name : Alice\n",
      "age : 20\n",
      "major : Physics\n",
      "gpa : 3.7\n"
     ]
    }
   ],
   "source": [
    "# --- 4. Dictionaries (key-value pairs) ---\n",
    "student = {\"name\": \"Alice\", \"age\": 20, \"major\": \"Physics\"}\n",
    "print(\"Student:\", student)\n",
    "print(\"Name:\", student[\"name\"])\n",
    "\n",
    "# Add new key-value pair\n",
    "student[\"gpa\"] = 3.7\n",
    "print(\"Updated:\", student)\n",
    "\n",
    "# Loop through keys and values\n",
    "for key, value in student.items():\n",
    "    print(key, \":\", value)\n"
   ]
  },
  {
   "cell_type": "code",
   "execution_count": 7,
   "id": "79d32b8f",
   "metadata": {},
   "outputs": [
    {
     "name": "stdout",
     "output_type": "stream",
     "text": [
      "trial1 average: 1.2\n",
      "trial2 average: 2.1333333333333333\n",
      "trial3 average: 3.5\n"
     ]
    }
   ],
   "source": [
    "# --- 5. Mini Exercise ---\n",
    "# Physics experiment data stored in a dictionary\n",
    "experiment = {\n",
    "    \"trial1\": [1.2, 1.3, 1.1],\n",
    "    \"trial2\": [2.1, 2.0, 2.3],\n",
    "    \"trial3\": [3.5, 3.6, 3.4]\n",
    "}\n",
    "\n",
    "# Calculate average of each trial\n",
    "for trial, values in experiment.items():\n",
    "    avg = sum(values) / len(values)\n",
    "    print(trial, \"average:\", avg)\n"
   ]
  },
  {
   "cell_type": "code",
   "execution_count": null,
   "id": "37da8b07",
   "metadata": {},
   "outputs": [],
   "source": []
  }
 ],
 "metadata": {
  "kernelspec": {
   "display_name": "Python 3 (ipykernel)",
   "language": "python",
   "name": "python3"
  },
  "language_info": {
   "codemirror_mode": {
    "name": "ipython",
    "version": 3
   },
   "file_extension": ".py",
   "mimetype": "text/x-python",
   "name": "python",
   "nbconvert_exporter": "python",
   "pygments_lexer": "ipython3",
   "version": "3.9.12"
  }
 },
 "nbformat": 4,
 "nbformat_minor": 5
}
