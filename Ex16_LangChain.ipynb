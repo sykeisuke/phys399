{
 "cells": [
  {
   "cell_type": "markdown",
   "id": "c6fe7a28-4993-47d4-a78a-0ba2b7b201b6",
   "metadata": {},
   "source": [
    "# Exercise 16 LangChain\n",
    "\n",
    "**Goals**\n",
    "- Learn how to build a **vector database** using LangChain and Chroma.  \n",
    "- Create a simple **Retrieval-Augmented Generation (RAG) chatbot** that can answer customer inquiries using product data.  \n",
    "- Understand how AI can be applied to **industrial use cases** such as online retail and customer support.  \n"
   ]
  },
  {
   "cell_type": "code",
   "execution_count": 2,
   "id": "e30b1f02-9ee9-4a45-95f2-6f03697660c0",
   "metadata": {},
   "outputs": [],
   "source": [
    "from langchain_openai import OpenAIEmbeddings, ChatOpenAI\n",
    "from langchain_community.vectorstores import Chroma\n",
    "from langchain_core.documents import Document\n",
    "from langchain.tools.retriever import create_retriever_tool\n",
    "from langchain_core.prompts import ChatPromptTemplate, MessagesPlaceholder\n",
    "from langchain.agents import AgentExecutor, create_openai_tools_agent\n",
    "import pandas as pd"
   ]
  },
  {
   "cell_type": "code",
   "execution_count": 3,
   "id": "5e509158-a4e8-4109-85d0-0fbb6943686b",
   "metadata": {},
   "outputs": [],
   "source": [
    "CSV_PATH = \"data/data_ex16.csv\"           # shoes dataset (id,name,category,price_usd,stock,description)\n",
    "PERSIST_DIR = \"data/chroma_ex16_db\"      # where Chroma will persist locally\n",
    "EMB_MODEL = \"text-embedding-3-small\" # good balance of quality/speed\n",
    "CHAT_MODEL = \"gpt-5-nano\"            # or \"gpt-4.1\""
   ]
  },
  {
   "cell_type": "code",
   "execution_count": 4,
   "id": "32a99c43-6205-4e4b-acf3-d20e5422172f",
   "metadata": {},
   "outputs": [],
   "source": [
    "# ----------------- Load CSV -> Documents -----------------\n",
    "def csv_to_documents(csv_path: str) -> list[Document]:\n",
    "    df = pd.read_csv(csv_path)\n",
    "    docs: list[Document] = []\n",
    "    for _, r in df.iterrows():\n",
    "        content = (\n",
    "            f\"Product: {r['name']}\\n\"\n",
    "            f\"Category: {r['category']}\\n\"\n",
    "            f\"Price (USD): {r['price_usd']}\\n\"\n",
    "            f\"Stock: {r['stock']}\\n\"\n",
    "            f\"Description: {r['description']}\"\n",
    "        )\n",
    "        docs.append(Document(page_content=content))\n",
    "    return docs"
   ]
  },
  {
   "cell_type": "code",
   "execution_count": 5,
   "id": "94f9f25c-e7d2-4401-8197-27751ac19e9f",
   "metadata": {},
   "outputs": [],
   "source": [
    "# ----------------- Build / Load Chroma -----------------\n",
    "def build_chroma(docs: list[Document]) -> Chroma:\n",
    "    \"\"\"Always build a Chroma DB fresh from documents.\"\"\"\n",
    "    embeddings = OpenAIEmbeddings(model=EMB_MODEL)\n",
    "    vectordb = Chroma.from_documents(\n",
    "        documents=docs,\n",
    "        embedding=embeddings,\n",
    "        persist_directory=PERSIST_DIR,\n",
    "    )\n",
    "    return vectordb"
   ]
  },
  {
   "cell_type": "code",
   "execution_count": 6,
   "id": "be3ea8d3-f13a-42ad-b464-68588188a1e7",
   "metadata": {},
   "outputs": [],
   "source": [
    "# ----------------- Create a retriever tool (for agent use) -----------------\n",
    "def build_retriever_tool(vectordb: Chroma):\n",
    "    retriever = vectordb.as_retriever(search_kwargs={\"k\": 4})\n",
    "    tool = create_retriever_tool(\n",
    "        retriever=retriever,\n",
    "        name=\"shoes_knowledge\",\n",
    "        description=\"Search for shoes by name, category, price, stock, or description.\"\n",
    "    )\n",
    "    return tool"
   ]
  },
  {
   "cell_type": "code",
   "execution_count": 8,
   "id": "e662d745-41cb-428a-b71e-10f09d254005",
   "metadata": {},
   "outputs": [],
   "source": [
    "# ----------------- Minimal RAG agent (optional demo) -----------------\n",
    "def build_agent(tool):\n",
    "    llm = ChatOpenAI(model=CHAT_MODEL)\n",
    "\n",
    "    prompt = ChatPromptTemplate.from_messages([\n",
    "        (\"system\",\n",
    "         \"You are a helpful assistant for a shoes-only online shop. \"\n",
    "         \"Answer concisely. If the answer is not in the data, say you don't know.\"),\n",
    "        MessagesPlaceholder(\"chat_history\"),\n",
    "        (\"human\", \"{input}\"),\n",
    "        MessagesPlaceholder(\"agent_scratchpad\"),\n",
    "    ])\n",
    "\n",
    "    agent = create_openai_tools_agent(llm, tools=[tool], prompt=prompt)\n",
    "    executor = AgentExecutor(agent=agent, tools=[tool], verbose=False)\n",
    "    return executor"
   ]
  },
  {
   "cell_type": "code",
   "execution_count": 9,
   "id": "2dc0f014-5648-40d6-bf68-010efcba1615",
   "metadata": {},
   "outputs": [
    {
     "name": "stdout",
     "output_type": "stream",
     "text": [
      "\n",
      "--- Agent answer ---\n",
      "Option available:\n",
      "- Running Shoes Alpha — $119.99. Lightweight daily trainer. Category: running. In stock: 24.\n",
      "\n",
      "What size and color would you like? I can also check for similar running models if you want.\n"
     ]
    }
   ],
   "source": [
    "# ----------------- Main -----------------\n",
    "def main():\n",
    "    # 1) Read CSV -> Documents\n",
    "    docs = csv_to_documents(CSV_PATH)\n",
    "\n",
    "    # 2) Build or load Chroma vector DB\n",
    "    vectordb = build_chroma(docs)\n",
    "\n",
    "    # Step 3: Build RAG agent (LLM + retriever tool)\n",
    "    tool = build_retriever_tool(vectordb)\n",
    "    agent = build_agent(tool)\n",
    "\n",
    "    # Example user query\n",
    "    chat_history = []\n",
    "    user_q = \"I'm looking for running shoes for daily training. What options and prices do you have?\"\n",
    "\n",
    "    # Run the agent\n",
    "    res = agent.invoke({\"input\": user_q, \"chat_history\": chat_history})\n",
    "\n",
    "    print(\"\\n--- Agent answer ---\")\n",
    "    print(res[\"output\"])\n",
    "\n",
    "if __name__ == \"__main__\":\n",
    "    main()"
   ]
  },
  {
   "cell_type": "code",
   "execution_count": null,
   "id": "2744b89e-889e-461c-854c-aa15cb16e79b",
   "metadata": {},
   "outputs": [],
   "source": []
  }
 ],
 "metadata": {
  "kernelspec": {
   "display_name": "Python (phys399)",
   "language": "python",
   "name": "phys399"
  },
  "language_info": {
   "codemirror_mode": {
    "name": "ipython",
    "version": 3
   },
   "file_extension": ".py",
   "mimetype": "text/x-python",
   "name": "python",
   "nbconvert_exporter": "python",
   "pygments_lexer": "ipython3",
   "version": "3.11.13"
  }
 },
 "nbformat": 4,
 "nbformat_minor": 5
}
