{
 "cells": [
  {
   "cell_type": "markdown",
   "id": "f0f0868c",
   "metadata": {},
   "source": [
    "# Lecture2: Control Flow - if, elif, else"
   ]
  },
  {
   "cell_type": "code",
   "execution_count": 7,
   "id": "a9eb8fc3",
   "metadata": {},
   "outputs": [
    {
     "name": "stdout",
     "output_type": "stream",
     "text": [
      "x is greater than 5\n"
     ]
    }
   ],
   "source": [
    "# --- 1. Basic if statement ---\n",
    "x = 10\n",
    "if x > 5:\n",
    "    print(\"x is greater than 5\")"
   ]
  },
  {
   "cell_type": "code",
   "execution_count": 2,
   "id": "e8c7c22b",
   "metadata": {},
   "outputs": [
    {
     "name": "stdout",
     "output_type": "stream",
     "text": [
      "Pass\n"
     ]
    }
   ],
   "source": [
    "# --- 2. if-else ---\n",
    "score = 75\n",
    "if score >= 60:\n",
    "    print(\"Pass\")\n",
    "else:\n",
    "    print(\"Fail\")"
   ]
  },
  {
   "cell_type": "code",
   "execution_count": 3,
   "id": "eb7d4451",
   "metadata": {},
   "outputs": [
    {
     "name": "stdout",
     "output_type": "stream",
     "text": [
      "Medium energy\n"
     ]
    }
   ],
   "source": [
    "# --- 3. if-elif-else ---\n",
    "energy = 15\n",
    "if energy > 20:\n",
    "    print(\"High energy\")\n",
    "elif energy > 10:\n",
    "    print(\"Medium energy\")\n",
    "else:\n",
    "    print(\"Low energy\")"
   ]
  },
  {
   "cell_type": "code",
   "execution_count": 4,
   "id": "09fd9459",
   "metadata": {},
   "outputs": [
    {
     "name": "stdout",
     "output_type": "stream",
     "text": [
      "Both are positive\n",
      "At least one is positive\n",
      "a is not greater than 5\n"
     ]
    }
   ],
   "source": [
    "# --- 4. Logical operators ---\n",
    "a = 3\n",
    "b = 7\n",
    "if a > 0 and b > 0:\n",
    "    print(\"Both are positive\")\n",
    "\n",
    "if a > 0 or b > 0:\n",
    "    print(\"At least one is positive\")\n",
    "\n",
    "if not (a > 5):\n",
    "    print(\"a is not greater than 5\")"
   ]
  },
  {
   "cell_type": "code",
   "execution_count": 5,
   "id": "355fbe51",
   "metadata": {},
   "outputs": [
    {
     "name": "stdout",
     "output_type": "stream",
     "text": [
      "Measured velocity: 2.5\n"
     ]
    }
   ],
   "source": [
    "# --- 5. Mini Exercise ---\n",
    "# Particle identification by Time-of-Flight (TOF)\n",
    "# Assume a particle travels distance L in time t\n",
    "# velocity = L / t, compare with expected speeds\n",
    "\n",
    "L = 3.0   # meters\n",
    "t = 1.2   # ns (arbitrary units)\n",
    "\n",
    "v = L / t\n",
    "print(\"Measured velocity:\", v)"
   ]
  },
  {
   "cell_type": "code",
   "execution_count": 6,
   "id": "f3ab4fc4",
   "metadata": {},
   "outputs": [
    {
     "name": "stdout",
     "output_type": "stream",
     "text": [
      "Likely pion\n"
     ]
    }
   ],
   "source": [
    "# Simple classification (toy example)\n",
    "if v > 2.5:\n",
    "    print(\"Likely electron\")\n",
    "elif v > 2.0:\n",
    "    print(\"Likely pion\")\n",
    "elif v > 1.5:\n",
    "    print(\"Likely kaon\")\n",
    "else:\n",
    "    print(\"Likely proton\")"
   ]
  },
  {
   "cell_type": "code",
   "execution_count": null,
   "id": "0962d69c",
   "metadata": {},
   "outputs": [],
   "source": []
  }
 ],
 "metadata": {
  "kernelspec": {
   "display_name": "Python 3 (ipykernel)",
   "language": "python",
   "name": "python3"
  },
  "language_info": {
   "codemirror_mode": {
    "name": "ipython",
    "version": 3
   },
   "file_extension": ".py",
   "mimetype": "text/x-python",
   "name": "python",
   "nbconvert_exporter": "python",
   "pygments_lexer": "ipython3",
   "version": "3.9.12"
  }
 },
 "nbformat": 4,
 "nbformat_minor": 5
}
