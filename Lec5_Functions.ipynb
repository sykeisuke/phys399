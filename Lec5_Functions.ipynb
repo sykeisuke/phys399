{
 "cells": [
  {
   "cell_type": "markdown",
   "id": "da917d45",
   "metadata": {},
   "source": [
    "# Lecture 5: Functions"
   ]
  },
  {
   "cell_type": "code",
   "execution_count": 1,
   "id": "62f37c90",
   "metadata": {},
   "outputs": [
    {
     "name": "stdout",
     "output_type": "stream",
     "text": [
      "Hello from a function!\n"
     ]
    }
   ],
   "source": [
    "# --- 1. Defining a simple function ---\n",
    "def greet():\n",
    "    print(\"Hello from a function!\")\n",
    "\n",
    "greet()\n"
   ]
  },
  {
   "cell_type": "code",
   "execution_count": 2,
   "id": "9db3fca5",
   "metadata": {},
   "outputs": [
    {
     "name": "stdout",
     "output_type": "stream",
     "text": [
      "Square of 3: 9\n"
     ]
    }
   ],
   "source": [
    "# --- 2. Function with parameters ---\n",
    "def square(x):\n",
    "    return x * x\n",
    "\n",
    "print(\"Square of 3:\", square(3))"
   ]
  },
  {
   "cell_type": "code",
   "execution_count": 3,
   "id": "5e7dd350",
   "metadata": {},
   "outputs": [
    {
     "name": "stdout",
     "output_type": "stream",
     "text": [
      "Kinetic energy (m=2, v=3): 9.0\n"
     ]
    }
   ],
   "source": [
    "# --- 3. Function with multiple parameters ---\n",
    "def kinetic_energy(m, v):\n",
    "    return 0.5 * m * v**2\n",
    "\n",
    "print(\"Kinetic energy (m=2, v=3):\", kinetic_energy(2, 3))\n"
   ]
  },
  {
   "cell_type": "code",
   "execution_count": 4,
   "id": "05d2b816",
   "metadata": {},
   "outputs": [
    {
     "name": "stdout",
     "output_type": "stream",
     "text": [
      "power(3): 9\n",
      "power(3, 3): 27\n"
     ]
    }
   ],
   "source": [
    "# --- 4. Default arguments ---\n",
    "def power(base, exp=2):\n",
    "    return base ** exp\n",
    "\n",
    "print(\"power(3):\", power(3))\n",
    "print(\"power(3, 3):\", power(3, 3))"
   ]
  },
  {
   "cell_type": "code",
   "execution_count": 5,
   "id": "6eb65e5e",
   "metadata": {},
   "outputs": [
    {
     "name": "stdout",
     "output_type": "stream",
     "text": [
      "Position: 10 Velocity: 5\n"
     ]
    }
   ],
   "source": [
    "# --- 5. Returning multiple values (tuple) ---\n",
    "def particle_motion(x0, v0, t):\n",
    "    x = x0 + v0 * t\n",
    "    v = v0\n",
    "    return x, v  # returns a tuple\n",
    "\n",
    "position, velocity = particle_motion(0, 5, 2)\n",
    "print(\"Position:\", position, \"Velocity:\", velocity)\n"
   ]
  },
  {
   "cell_type": "code",
   "execution_count": 6,
   "id": "561f8ee1",
   "metadata": {},
   "outputs": [
    {
     "name": "stdout",
     "output_type": "stream",
     "text": [
      "I am global\n",
      "I am local\n"
     ]
    }
   ],
   "source": [
    "# --- 6. Variable scope ---\n",
    "global_var = \"I am global\"\n",
    "\n",
    "def test_scope():\n",
    "    local_var = \"I am local\"\n",
    "    print(global_var)\n",
    "    print(local_var)\n",
    "\n",
    "test_scope()\n",
    "# print(local_var)  # This would cause an error"
   ]
  },
  {
   "cell_type": "code",
   "execution_count": 7,
   "id": "1fc3e860",
   "metadata": {},
   "outputs": [
    {
     "name": "stdout",
     "output_type": "stream",
     "text": [
      "Heavy particle\n",
      "Light particle\n"
     ]
    }
   ],
   "source": [
    "# --- 7. Mini Exercise ---\n",
    "# Write a function that classifies a particle given mass and velocity\n",
    "\n",
    "def classify_particle(m, v):\n",
    "    p = m * v\n",
    "    if p > 10:\n",
    "        return \"Heavy particle\"\n",
    "    else:\n",
    "        return \"Light particle\"\n",
    "\n",
    "print(classify_particle(2, 10))\n",
    "print(classify_particle(1, 3))"
   ]
  },
  {
   "cell_type": "code",
   "execution_count": null,
   "id": "7cfa6dd6",
   "metadata": {},
   "outputs": [],
   "source": []
  }
 ],
 "metadata": {
  "kernelspec": {
   "display_name": "Python 3 (ipykernel)",
   "language": "python",
   "name": "python3"
  },
  "language_info": {
   "codemirror_mode": {
    "name": "ipython",
    "version": 3
   },
   "file_extension": ".py",
   "mimetype": "text/x-python",
   "name": "python",
   "nbconvert_exporter": "python",
   "pygments_lexer": "ipython3",
   "version": "3.11.13"
  }
 },
 "nbformat": 4,
 "nbformat_minor": 5
}
