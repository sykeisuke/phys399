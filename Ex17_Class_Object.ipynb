{
 "cells": [
  {
   "cell_type": "markdown",
   "id": "1c3f8dda",
   "metadata": {},
   "source": [
    "# Exercise 17: Python Classes and Objects\n",
    "\n",
    "**Goals**  \n",
    "- Understand the concept of **classes** and **objects** in Python.  \n",
    "- Learn how to define a class with attributes and methods.  \n",
    "- Practice creating objects and calling their methods.\n"
   ]
  },
  {
   "cell_type": "markdown",
   "id": "5054b158",
   "metadata": {},
   "source": [
    "## 1. What is a Class?\n",
    "\n",
    "- A **class** is like a blueprint for creating objects.  \n",
    "- It defines the **attributes** (data) and **methods** (functions) that the objects will have.\n"
   ]
  },
  {
   "cell_type": "code",
   "execution_count": 28,
   "id": "89612c52",
   "metadata": {},
   "outputs": [],
   "source": [
    "# --- Define a Student class to manage student information ---\n",
    "class Student:\n",
    "    # constructor\n",
    "    def __init__(self, name, student_id):\n",
    "        self.name = name\n",
    "        self.student_id = student_id\n",
    "        self.grades = []\n",
    "\n",
    "    def add_grades(self, grades: list):\n",
    "        \"\"\"Add a list of grades at once\"\"\"\n",
    "        self.grades.extend(grades) \n",
    "\n",
    "    def average(self):\n",
    "        \"\"\"Compute the average grade for this student.\"\"\"\n",
    "        if not self.grades:  # If the list is empty\n",
    "            return 0\n",
    "        return sum(self.grades) / len(self.grades)\n",
    "\n",
    "    def summary(self):\n",
    "        \"\"\"Print a short summary for this student.\"\"\"\n",
    "        print(f\"{self.name} (ID: {self.student_id}) \"\n",
    "              f\"has {len(self.grades)} grades. \"\n",
    "              f\"Average: {self.average():.1f}\")"
   ]
  },
  {
   "cell_type": "markdown",
   "id": "25a6a7d4",
   "metadata": {},
   "source": [
    "## 2. What is an Object?\n",
    "\n",
    "- An **object** is an **instance** of a class.  \n",
    "- Each object has its own data (attribute values).\n"
   ]
  },
  {
   "cell_type": "code",
   "execution_count": 26,
   "id": "046038e2-cace-4576-bc53-eedfb9d71aa2",
   "metadata": {},
   "outputs": [],
   "source": [
    "# --- Create objects for each student ---\n",
    "s1 = Student(\"Keisuke\", 1001)\n",
    "s2 = Student(\"Thomas\", 1002)\n",
    "s3 = Student(\"Sven\", 1003)"
   ]
  },
  {
   "cell_type": "code",
   "execution_count": 27,
   "id": "68e9e068-93f7-4955-88b8-1f15584dfe53",
   "metadata": {},
   "outputs": [
    {
     "name": "stdout",
     "output_type": "stream",
     "text": [
      "Keisuke (ID: 1001) has 3 grades. Average: 40.0\n",
      "Thomas (ID: 1002) has 3 grades. Average: 76.7\n",
      "Sven (ID: 1003) has 3 grades. Average: 80.0\n"
     ]
    }
   ],
   "source": [
    "# --- Use Class Method ---\n",
    "# Add grades \n",
    "s1.add_grades([40, 30, 50])\n",
    "s2.add_grades([80, 90, 60])\n",
    "s3.add_grades([80, 70, 90])\n",
    "\n",
    "# Show summaries \n",
    "s1.summary()\n",
    "s2.summary()\n",
    "s3.summary()"
   ]
  },
  {
   "cell_type": "markdown",
   "id": "0a3aff26-5920-48ed-bc80-699363af6979",
   "metadata": {},
   "source": [
    "## 3. Using Class Objects Inside Another Class\n",
    "\n",
    "- Here we define a Course class that manages multiple Student objects.\n",
    "- The Course class keeps a list of Student objects and provides methods to add and list students.\n",
    "- This shows how one class can hold and operate on objects of another class."
   ]
  },
  {
   "cell_type": "code",
   "execution_count": 34,
   "id": "9558eb26-2d0c-411a-9e0b-854629dc58dc",
   "metadata": {},
   "outputs": [],
   "source": [
    "class Course:\n",
    "    def __init__(self, name, code):\n",
    "        \"\"\"Initialize course with a name and code.\"\"\"\n",
    "        self.name = name\n",
    "        self.code = code\n",
    "        self.students: list[Student] = []\n",
    "\n",
    "    def add_student(self, student: Student):\n",
    "        \"\"\"Add a Student object to the course.\"\"\"\n",
    "        self.students.append(student)\n",
    "\n",
    "    def list_students(self):\n",
    "        \"\"\"List all students enrolled in the course.\"\"\"\n",
    "        print(f\"Course: {self.name} ({self.code})\")\n",
    "        print(\"Enrolled students:\")\n",
    "        for s in self.students:\n",
    "            print(f\" - {s.name} (ID: {s.student_id})\")"
   ]
  },
  {
   "cell_type": "code",
   "execution_count": 35,
   "id": "c8822d0a-dd5e-4ad1-9362-e2d470d31fc3",
   "metadata": {},
   "outputs": [
    {
     "name": "stdout",
     "output_type": "stream",
     "text": [
      "Course: Introduction to Scientific Programming (PHYS399)\n",
      "Enrolled students:\n",
      " - Keisuke (ID: 1001)\n",
      " - Thomas (ID: 1002)\n",
      " - Sven (ID: 1003)\n"
     ]
    }
   ],
   "source": [
    "course = Course(\"Introduction to Scientific Programming\", \"PHYS399\")\n",
    "course.add_student(s1)\n",
    "course.add_student(s2)\n",
    "course.add_student(s3)\n",
    "course.list_students()"
   ]
  },
  {
   "cell_type": "markdown",
   "id": "5aa943f7-2184-4432-b612-da4ce6080ae3",
   "metadata": {},
   "source": [
    "## 4. Other Examples"
   ]
  },
  {
   "cell_type": "raw",
   "id": "08a18250-09fc-4568-8f49-f5f66748126d",
   "metadata": {},
   "source": [
    "from langchain_openai import ChatOpenAI\n",
    "from langchain_community.vectorstores import Chroma\n",
    "\n",
    "# ChatOpenAI Class \n",
    "llm = ChatOpenAI(model=\"gpt-4o-mini\")\n",
    "\n",
    "# Chroma Class \n",
    "vectordb = Chroma(persist_directory=\"./db\", embedding_function=...)\n",
    "\n",
    "# AgentExecutor Class \n",
    "agent = AgentExecutor(agent=..., tools=[...])"
   ]
  },
  {
   "cell_type": "code",
   "execution_count": null,
   "id": "fc7cc031-7d54-45c0-b6e1-da7e439db377",
   "metadata": {},
   "outputs": [],
   "source": []
  }
 ],
 "metadata": {
  "kernelspec": {
   "display_name": "Python (phys399)",
   "language": "python",
   "name": "phys399"
  },
  "language_info": {
   "codemirror_mode": {
    "name": "ipython",
    "version": 3
   },
   "file_extension": ".py",
   "mimetype": "text/x-python",
   "name": "python",
   "nbconvert_exporter": "python",
   "pygments_lexer": "ipython3",
   "version": "3.11.13"
  }
 },
 "nbformat": 4,
 "nbformat_minor": 5
}
