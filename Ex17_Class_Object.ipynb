{
 "cells": [
  {
   "cell_type": "markdown",
   "id": "1c3f8dda",
   "metadata": {},
   "source": [
    "# Exercise 17: Python Classes and Objects\n",
    "\n",
    "**Goals**  \n",
    "- Understand the concept of **classes** and **objects** in Python.  \n",
    "- Learn how to define a class with attributes and methods.  \n",
    "- Practice creating objects and calling their methods.\n"
   ]
  },
  {
   "cell_type": "markdown",
   "id": "5054b158",
   "metadata": {},
   "source": [
    "## 1. What is a Class?\n",
    "\n",
    "- A **class** is like a blueprint for creating objects.  \n",
    "- It defines the **attributes** (data) and **methods** (functions) that the objects will have.\n"
   ]
  },
  {
   "cell_type": "code",
   "execution_count": 1,
   "id": "89612c52",
   "metadata": {},
   "outputs": [],
   "source": [
    "# --- Define a Student class to manage student information ---\n",
    "class Student:\n",
    "    # constructor\n",
    "    def __init__(self, name, student_id):\n",
    "        self.name = name\n",
    "        self.student_id = student_id\n",
    "        self.grades = []\n",
    "\n",
    "    def add_grades(self, grades: list):\n",
    "        \"\"\"Add a list of grades at once\"\"\"\n",
    "        self.grades.extend(grades) \n",
    "\n",
    "    def average(self):\n",
    "        \"\"\"Compute the average grade for this student.\"\"\"\n",
    "        if not self.grades:  # If the list is empty\n",
    "            return 0\n",
    "        return sum(self.grades) / len(self.grades)\n",
    "\n",
    "    def summary(self):\n",
    "        \"\"\"Print a short summary for this student.\"\"\"\n",
    "        print(f\"{self.name} (ID: {self.student_id}) \"\n",
    "              f\"has {len(self.grades)} grades. \"\n",
    "              f\"Average: {self.average():.1f}\")"
   ]
  },
  {
   "cell_type": "markdown",
   "id": "25a6a7d4",
   "metadata": {},
   "source": [
    "## 2. What is an Object?\n",
    "\n",
    "- An **object** is an **instance** of a class.  \n",
    "- Each object has its own data (attribute values).\n"
   ]
  },
  {
   "cell_type": "code",
   "execution_count": 2,
   "id": "046038e2-cace-4576-bc53-eedfb9d71aa2",
   "metadata": {},
   "outputs": [],
   "source": [
    "# --- Create objects for each student ---\n",
    "s1 = Student(\"Keisuke\", 1001)\n",
    "s2 = Student(\"Thomas\", 1002)\n",
    "s3 = Student(\"Sven\", 1003)"
   ]
  },
  {
   "cell_type": "code",
   "execution_count": 3,
   "id": "68e9e068-93f7-4955-88b8-1f15584dfe53",
   "metadata": {},
   "outputs": [
    {
     "name": "stdout",
     "output_type": "stream",
     "text": [
      "Keisuke (ID: 1001) has 3 grades. Average: 40.0\n",
      "Thomas (ID: 1002) has 3 grades. Average: 76.7\n",
      "Sven (ID: 1003) has 3 grades. Average: 80.0\n"
     ]
    }
   ],
   "source": [
    "# --- Use Class Method ---\n",
    "# Add grades \n",
    "s1.add_grades([40, 30, 50])\n",
    "s2.add_grades([80, 90, 60])\n",
    "s3.add_grades([80, 70, 90])\n",
    "\n",
    "# Show summaries \n",
    "s1.summary()\n",
    "s2.summary()\n",
    "s3.summary()"
   ]
  },
  {
   "cell_type": "markdown",
   "id": "0a3aff26-5920-48ed-bc80-699363af6979",
   "metadata": {},
   "source": [
    "## 3. Using Class Objects Inside Another Class\n",
    "\n",
    "- Here we define a Course class that manages multiple Student objects.\n",
    "- The Course class keeps a list of Student objects and provides methods to add and list students.\n",
    "- This shows how one class can hold and operate on objects of another class."
   ]
  },
  {
   "cell_type": "code",
   "execution_count": 4,
   "id": "9558eb26-2d0c-411a-9e0b-854629dc58dc",
   "metadata": {},
   "outputs": [],
   "source": [
    "class Course:\n",
    "    def __init__(self, name, code):\n",
    "        \"\"\"Initialize course with a name and code.\"\"\"\n",
    "        self.name = name\n",
    "        self.code = code\n",
    "        self.students: list[Student] = []\n",
    "\n",
    "    def add_student(self, student: Student):\n",
    "        \"\"\"Add a Student object to the course.\"\"\"\n",
    "        self.students.append(student)\n",
    "\n",
    "    def list_students(self):\n",
    "        \"\"\"List all students enrolled in the course.\"\"\"\n",
    "        print(f\"Course: {self.name} ({self.code})\")\n",
    "        print(\"Enrolled students:\")\n",
    "        for s in self.students:\n",
    "            print(f\" - {s.name} (ID: {s.student_id})\")"
   ]
  },
  {
   "cell_type": "code",
   "execution_count": 5,
   "id": "c8822d0a-dd5e-4ad1-9362-e2d470d31fc3",
   "metadata": {},
   "outputs": [
    {
     "name": "stdout",
     "output_type": "stream",
     "text": [
      "Course: Introduction to Scientific Programming (PHYS399)\n",
      "Enrolled students:\n",
      " - Keisuke (ID: 1001)\n",
      " - Thomas (ID: 1002)\n",
      " - Sven (ID: 1003)\n"
     ]
    }
   ],
   "source": [
    "course = Course(\"Introduction to Scientific Programming\", \"PHYS399\")\n",
    "course.add_student(s1)\n",
    "course.add_student(s2)\n",
    "course.add_student(s3)\n",
    "course.list_students()"
   ]
  },
  {
   "cell_type": "markdown",
   "id": "f9b1fa68-c1b8-404e-944b-5ad615a9dc94",
   "metadata": {},
   "source": [
    "## 4. Class Inheritance  \n",
    "\n",
    "- **Reuse and extend**: Inheritance allows a new class (child class) to reuse the attributes and methods of an existing class (parent class) and add its own new features.  \n",
    "- **Super keyword**: The `super()` function is used to call the parent class’s constructor or methods inside the child class.  \n",
    "- **Example**: A `GraduateStudent` class can inherit from `Student` to keep all the student information while adding new attributes such as `research_topic` and new methods like `show_research()`.  "
   ]
  },
  {
   "cell_type": "code",
   "execution_count": 6,
   "id": "fc7cc031-7d54-45c0-b6e1-da7e439db377",
   "metadata": {},
   "outputs": [],
   "source": [
    "# --- Base class (same as above) ---\n",
    "class Student:\n",
    "    def __init__(self, name, student_id):\n",
    "        self.name = name\n",
    "        self.student_id = student_id\n",
    "        self.grades = []\n",
    "\n",
    "    def add_grades(self, grades: list):\n",
    "        self.grades.extend(grades)\n",
    "\n",
    "    def average(self):\n",
    "        if not self.grades:  # If the list is empty\n",
    "            return 0\n",
    "        return sum(self.grades) / len(self.grades)\n",
    "\n",
    "    def summary(self):\n",
    "        print(f\"{self.name} (ID: {self.student_id}) \"\n",
    "              f\"has {len(self.grades)} grades. \"\n",
    "              f\"Average: {self.average():.1f}\")\n",
    "\n",
    "# --- Derived class ---\n",
    "class GraduateStudent(Student):\n",
    "    def __init__(self, name, student_id, research_topic):\n",
    "        \"\"\"Initialize a graduate student with name, ID, and research topic.\n",
    "        Call the parent (Student) constructor to reuse its initialization.\"\"\"\n",
    "        super().__init__(name, student_id)\n",
    "        self.research_topic = research_topic\n",
    "\n",
    "    def show_research(self):\n",
    "        \"\"\"Show the research topic of this graduate student.\"\"\"\n",
    "        print(f\"{self.name} is researching: {self.research_topic}\")"
   ]
  },
  {
   "cell_type": "code",
   "execution_count": 7,
   "id": "f76251ff-7548-4506-ab95-16fab6342786",
   "metadata": {},
   "outputs": [
    {
     "name": "stdout",
     "output_type": "stream",
     "text": [
      "Keisuke (ID: 1001) has 3 grades. Average: 40.0\n",
      "Peter (ID: 2001) has 3 grades. Average: 80.0\n",
      "Peter is researching: SuperKEKB/Belle II Experiment\n"
     ]
    }
   ],
   "source": [
    "s1 = Student(\"Keisuke\", 1001) \n",
    "s1.add_grades([40, 30, 50])\n",
    "s1.summary()\n",
    "\n",
    "gs1 = GraduateStudent(\"Peter\", 2001, \"SuperKEKB/Belle II Experiment\")\n",
    "gs1.add_grades([80, 60, 100])             # Inherit add_grades() from Student\n",
    "gs1.summary()                             # Inherit summary() from Student\n",
    "gs1.show_research()                       # Use new method defined in GraduateStudent"
   ]
  },
  {
   "cell_type": "markdown",
   "id": "db1c56fa-4fd5-4147-9383-97fff8a6ca73",
   "metadata": {},
   "source": [
    "## 5. Exception Handling\n",
    "- Using **try/except** allows your program to handle errors safely without stopping execution.  \n",
    "- You can write separate `except` blocks for different error types (e.g., `ValueError`, `ZeroDivisionError`).  \n",
    "- Exception handling is also useful inside classes, for example when processing user input or external data."
   ]
  },
  {
   "cell_type": "code",
   "execution_count": 10,
   "id": "5232196c-68aa-40cd-8f8d-85f787edf41c",
   "metadata": {},
   "outputs": [],
   "source": [
    "class Student:\n",
    "    def __init__(self, name, student_id):\n",
    "        self.name = name\n",
    "        self.student_id = student_id\n",
    "        self.grades = []\n",
    "\n",
    "    def add_grades(self, grades: list):\n",
    "        try:\n",
    "            if not isinstance(grades, list):\n",
    "                raise TypeError(\"Grades must be a list.\")\n",
    "            self.grades.extend(grades)\n",
    "        except TypeError as e:\n",
    "            print(f\"Error adding grades for {self.name}: {e}\")\n",
    "\n",
    "    def average(self):\n",
    "        try:\n",
    "            if not self.grades:\n",
    "                raise ZeroDivisionError(\"No grades available.\")\n",
    "            return sum(self.grades) / len(self.grades)\n",
    "        except ZeroDivisionError as e:\n",
    "            print(f\"Error computing average for {self.name}: {e}\")\n",
    "            return 0"
   ]
  },
  {
   "cell_type": "code",
   "execution_count": 16,
   "id": "7e8ed31a-b22e-4a2f-ab9f-db64cc6d3e32",
   "metadata": {},
   "outputs": [
    {
     "name": "stdout",
     "output_type": "stream",
     "text": [
      "Error adding grades for Keisuke: Grades must be a list.\n"
     ]
    }
   ],
   "source": [
    "s1 = Student(\"Keisuke\", 1001) \n",
    "#s1.add_grades([40, 30, 50])\n",
    "s1.add_grades(40)"
   ]
  },
  {
   "cell_type": "code",
   "execution_count": 17,
   "id": "bf5e3b95-4ff3-4651-8a9d-8f8b05d10584",
   "metadata": {},
   "outputs": [
    {
     "name": "stdout",
     "output_type": "stream",
     "text": [
      "Error computing average for Keisuke: No grades available.\n"
     ]
    },
    {
     "data": {
      "text/plain": [
       "0"
      ]
     },
     "execution_count": 17,
     "metadata": {},
     "output_type": "execute_result"
    }
   ],
   "source": [
    "s1 = Student(\"Keisuke\", 1001) \n",
    "s1.average()"
   ]
  },
  {
   "cell_type": "code",
   "execution_count": null,
   "id": "a432557b-dcb8-482d-8f02-531aa2c9313d",
   "metadata": {},
   "outputs": [],
   "source": []
  }
 ],
 "metadata": {
  "kernelspec": {
   "display_name": "Python (phys399)",
   "language": "python",
   "name": "phys399"
  },
  "language_info": {
   "codemirror_mode": {
    "name": "ipython",
    "version": 3
   },
   "file_extension": ".py",
   "mimetype": "text/x-python",
   "name": "python",
   "nbconvert_exporter": "python",
   "pygments_lexer": "ipython3",
   "version": "3.11.13"
  }
 },
 "nbformat": 4,
 "nbformat_minor": 5
}
