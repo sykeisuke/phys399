{
 "cells": [
  {
   "cell_type": "markdown",
   "id": "881f3e9b-8793-4a39-bf9f-8cc647bc7442",
   "metadata": {},
   "source": [
    "# Exercise 15: Text-to-Speech Conversation\n",
    "\n",
    "**Goals**\n",
    "\n",
    "In this notebook, you will:\n",
    "- Send a short text query to GPT.\n",
    "- Receive a concise AI reply.\n",
    "- Convert both the user input and the AI reply into speech (TTS).\n",
    "- Play back the generated audio responses."
   ]
  },
  {
   "cell_type": "code",
   "execution_count": 27,
   "id": "51befee5-eac1-4d33-b353-03865d8b3dd0",
   "metadata": {},
   "outputs": [],
   "source": [
    "from openai import OpenAI\n",
    "import tempfile\n",
    "import simpleaudio as sa\n",
    "\n",
    "client = OpenAI()"
   ]
  },
  {
   "cell_type": "code",
   "execution_count": 38,
   "id": "b6c1efa3-4b15-4f78-87a7-d7408eae72b1",
   "metadata": {},
   "outputs": [],
   "source": [
    "# ----------------- Step 1: LLM Response -----------------\n",
    "def chat(text_input: str) -> str:\n",
    "    res = client.chat.completions.create(\n",
    "        model=\"gpt-4o-mini\",\n",
    "        messages=[\n",
    "            {\"role\": \"system\",\n",
    "             \"content\": \"Reply in at most two concise sentences.\"},\n",
    "            {\"role\": \"user\", \"content\": text_input},\n",
    "        ],\n",
    "        max_completion_tokens=80\n",
    "    )\n",
    "    return res.choices[0].message.content.strip()"
   ]
  },
  {
   "cell_type": "code",
   "execution_count": 39,
   "id": "531d5c5a-79a2-4bd0-9980-3c7e1c91a4e7",
   "metadata": {},
   "outputs": [],
   "source": [
    "# ----------------- Step 2: Text-to-Speech -----------------\n",
    "def tts_and_play(text: str):\n",
    "    if not text or not text.strip():\n",
    "        return None\n",
    "        \n",
    "    out_path = tempfile.NamedTemporaryFile(suffix=\".wav\", delete=False).name\n",
    "    with client.audio.speech.with_streaming_response.create(\n",
    "        model=\"gpt-4o-mini-tts\",\n",
    "        voice=\"alloy\",\n",
    "        input=text,\n",
    "        response_format=\"wav\",\n",
    "    ) as resp:\n",
    "        resp.stream_to_file(out_path)\n",
    "        \n",
    "    # simpleaudio\n",
    "    wave_obj = sa.WaveObject.from_wave_file(out_path)\n",
    "    play_obj = wave_obj.play()\n",
    "    play_obj.wait_done()\n",
    "    return out_path"
   ]
  },
  {
   "cell_type": "code",
   "execution_count": 40,
   "id": "436bb83d-170b-459c-86bf-5cc29dfd6181",
   "metadata": {},
   "outputs": [
    {
     "name": "stdout",
     "output_type": "stream",
     "text": [
      "\n",
      "[You] How do you like living in Hawaii? Have you explored mountains?\n",
      "[LLM] I don't have personal experiences or feelings, but Hawaii is known for its stunning landscapes and beautiful mountains, making it a popular destination for exploration and outdoor activities. Many visitors enjoy hiking in places like the Ko'olau and Waianae ranges.\n"
     ]
    }
   ],
   "source": [
    "# ----------------- Main -----------------\n",
    "def main():\n",
    "    user_text = \"How do you like living in Hawaii? Have you explored mountains?\"\n",
    "\n",
    "    # 1) Display and speak the user message\n",
    "    print(f\"\\n[You] {user_text}\")\n",
    "    tts_and_play(user_text)\n",
    "\n",
    "    # 2) Generate a short reply from the LLM\n",
    "    reply = chat(user_text)\n",
    "    print(f\"[LLM] {reply}\")\n",
    "\n",
    "    # 3) Speak the LLM reply\n",
    "    tts_and_play(reply)\n",
    "\n",
    "if __name__ == \"__main__\":\n",
    "    main()"
   ]
  },
  {
   "cell_type": "code",
   "execution_count": null,
   "id": "d9664edd-38d6-4f9c-bbb7-83ac203020bd",
   "metadata": {},
   "outputs": [],
   "source": []
  }
 ],
 "metadata": {
  "kernelspec": {
   "display_name": "Python 3 (ipykernel)",
   "language": "python",
   "name": "python3"
  },
  "language_info": {
   "codemirror_mode": {
    "name": "ipython",
    "version": 3
   },
   "file_extension": ".py",
   "mimetype": "text/x-python",
   "name": "python",
   "nbconvert_exporter": "python",
   "pygments_lexer": "ipython3",
   "version": "3.11.13"
  }
 },
 "nbformat": 4,
 "nbformat_minor": 5
}
