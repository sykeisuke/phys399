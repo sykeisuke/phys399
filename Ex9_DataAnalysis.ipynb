{
 "cells": [
  {
   "cell_type": "markdown",
   "id": "eceb73f1-9417-40a8-9079-fb153d1826d8",
   "metadata": {},
   "source": [
    "# Exercise 9: Data Analysis with Pandas"
   ]
  },
  {
   "cell_type": "code",
   "execution_count": 3,
   "id": "d910a349-e8ed-4dd9-8cc3-5bbf6cb9fac8",
   "metadata": {},
   "outputs": [
    {
     "name": "stdout",
     "output_type": "stream",
     "text": [
      "DataFrame:\n",
      "  event  value  error\n",
      "0     A     10    1.0\n",
      "1     B     20    2.0\n",
      "2     A     15    1.5\n",
      "3     C     30    3.0\n",
      "4     B     25    2.5\n",
      "5     A     12    1.2\n",
      "6     C     28    2.8\n"
     ]
    }
   ],
   "source": [
    "import pandas as pd\n",
    "import numpy as np\n",
    "\n",
    "# --- 1. Create a sample DataFrame ---\n",
    "df = pd.DataFrame({\n",
    "    \"event\": [\"A\", \"B\", \"A\", \"C\", \"B\", \"A\", \"C\"],\n",
    "    \"value\": [10, 20, 15, 30, 25, 12, 28],\n",
    "    \"error\": [1.0, 2.0, 1.5, 3.0, 2.5, 1.2, 2.8]\n",
    "})\n",
    "\n",
    "print(\"DataFrame:\")\n",
    "print(df)\n"
   ]
  },
  {
   "cell_type": "code",
   "execution_count": 4,
   "id": "e71ceaa2-a9e5-4195-93ff-ef2631598e97",
   "metadata": {},
   "outputs": [
    {
     "name": "stdout",
     "output_type": "stream",
     "text": [
      "\n",
      "Group by event (mean value):\n",
      "event\n",
      "A    12.333333\n",
      "B    22.500000\n",
      "C    29.000000\n",
      "Name: value, dtype: float64\n",
      "\n",
      "Group by event (mean and std):\n",
      "            mean       std\n",
      "event                     \n",
      "A      12.333333  2.516611\n",
      "B      22.500000  3.535534\n",
      "C      29.000000  1.414214\n"
     ]
    }
   ],
   "source": [
    "# --- 2. Grouping and aggregation ---\n",
    "print(\"\\nGroup by event (mean value):\")\n",
    "print(df.groupby(\"event\")[\"value\"].mean())\n",
    "\n",
    "print(\"\\nGroup by event (mean and std):\")\n",
    "print(df.groupby(\"event\")[\"value\"].agg([\"mean\", \"std\"]))\n"
   ]
  },
  {
   "cell_type": "code",
   "execution_count": 5,
   "id": "5e4a3fab-7872-40c2-a893-e60f2758f5a1",
   "metadata": {},
   "outputs": [
    {
     "name": "stdout",
     "output_type": "stream",
     "text": [
      "\n",
      "Sorted by value:\n",
      "  event  value  error\n",
      "0     A     10    1.0\n",
      "5     A     12    1.2\n",
      "2     A     15    1.5\n",
      "1     B     20    2.0\n",
      "4     B     25    2.5\n",
      "6     C     28    2.8\n",
      "3     C     30    3.0\n",
      "\n",
      "Filter rows where value > 20:\n",
      "  event  value  error\n",
      "3     C     30    3.0\n",
      "4     B     25    2.5\n",
      "6     C     28    2.8\n"
     ]
    }
   ],
   "source": [
    "# --- 3. Sorting and filtering ---\n",
    "print(\"\\nSorted by value:\")\n",
    "print(df.sort_values(\"value\"))\n",
    "\n",
    "print(\"\\nFilter rows where value > 20:\")\n",
    "print(df[df[\"value\"] > 20])"
   ]
  },
  {
   "cell_type": "code",
   "execution_count": 6,
   "id": "aa5a1ce4-3a62-4652-86fa-671cd604c0d5",
   "metadata": {},
   "outputs": [
    {
     "name": "stdout",
     "output_type": "stream",
     "text": [
      "\n",
      "Merged DataFrame:\n",
      "  event  value  error  systematic_error\n",
      "0     A     10    1.0               0.5\n",
      "1     B     20    2.0               1.0\n",
      "2     A     15    1.5               0.5\n",
      "3     C     30    3.0               0.8\n",
      "4     B     25    2.5               1.0\n",
      "5     A     12    1.2               0.5\n",
      "6     C     28    2.8               0.8\n"
     ]
    }
   ],
   "source": [
    "# --- 4. Merging DataFrames ---\n",
    "errors = pd.DataFrame({\n",
    "    \"event\": [\"A\", \"B\", \"C\"],\n",
    "    \"systematic_error\": [0.5, 1.0, 0.8]\n",
    "})\n",
    "\n",
    "merged = pd.merge(df, errors, on=\"event\")\n",
    "print(\"\\nMerged DataFrame:\")\n",
    "print(merged)\n"
   ]
  },
  {
   "cell_type": "code",
   "execution_count": 10,
   "id": "595cba61-f21c-4c25-aa53-6448be49263f",
   "metadata": {},
   "outputs": [
    {
     "name": "stdout",
     "output_type": "stream",
     "text": [
      "Select a single row (index=2):\n",
      "event      A\n",
      "value     15\n",
      "error    1.5\n",
      "Name: 2, dtype: object\n",
      "\n",
      "Select multiple rows (index 0 and 3):\n",
      "  event  value  error\n",
      "0     A     10    1.0\n",
      "3     C     30    3.0\n",
      "\n",
      "Select rows with condition (value > 20):\n",
      "  event  value  error\n",
      "3     C     30    3.0\n",
      "4     B     25    2.5\n",
      "6     C     28    2.8\n",
      "\n",
      "Select specific rows and columns:\n",
      "  event  value\n",
      "0     A     10\n",
      "1     B     20\n",
      "2     A     15\n",
      "\n",
      "Update a cell (row 1, column 'value'):\n",
      "  event  value  error\n",
      "0     A     10    1.0\n",
      "1     B     99    2.0\n",
      "2     A     15    1.5\n",
      "3     C     30    3.0\n",
      "4     B     25    2.5\n",
      "5     A     12    1.2\n",
      "6     C     28    2.8\n"
     ]
    }
   ],
   "source": [
    "# --- 5. Selecting rows ---\n",
    "print(\"Select a single row (index=2):\")\n",
    "print(df.loc[2])\n",
    "\n",
    "print(\"\\nSelect multiple rows (index 0 and 3):\")\n",
    "print(df.loc[[0, 3]])\n",
    "\n",
    "print(\"\\nSelect rows with condition (value > 20):\")\n",
    "print(df.loc[df[\"value\"] > 20])\n",
    "\n",
    "print(\"\\nSelect specific rows and columns:\")\n",
    "print(df.loc[0:2, [\"event\", \"value\"]])\n",
    "\n",
    "print(\"\\nUpdate a cell (row 1, column 'value'):\")\n",
    "df.loc[1, \"value\"] = 99\n",
    "print(df)"
   ]
  },
  {
   "cell_type": "code",
   "execution_count": 14,
   "id": "f7199664-19b4-4903-b043-0c5e50963308",
   "metadata": {},
   "outputs": [
    {
     "name": "stdout",
     "output_type": "stream",
     "text": [
      "\n",
      "DataFrame with missing value:\n",
      "  event  value  error\n",
      "0     A   10.0    1.0\n",
      "1     B   99.0    2.0\n",
      "2     A    NaN    1.5\n",
      "3     C   30.0    3.0\n",
      "4     B   25.0    2.5\n",
      "5     A   12.0    1.2\n",
      "6     C   28.0    2.8\n",
      "\n",
      "Drop missing:\n",
      "  event  value  error\n",
      "0     A   10.0    1.0\n",
      "1     B   99.0    2.0\n",
      "3     C   30.0    3.0\n",
      "4     B   25.0    2.5\n",
      "5     A   12.0    1.2\n",
      "6     C   28.0    2.8\n",
      "\n",
      "Fill missing with mean:\n",
      "  event  value  error\n",
      "0     A   10.0    1.0\n",
      "1     B   99.0    2.0\n",
      "2     A   34.0    1.5\n",
      "3     C   30.0    3.0\n",
      "4     B   25.0    2.5\n",
      "5     A   12.0    1.2\n",
      "6     C   28.0    2.8\n"
     ]
    }
   ],
   "source": [
    "# --- 6. Handling missing data ---\n",
    "# Introduce NaN\n",
    "df_missing = df.copy()\n",
    "df_missing.loc[2, \"value\"] = np.nan \n",
    "print(\"\\nDataFrame with missing value:\")\n",
    "print(df_missing)\n",
    "\n",
    "print(\"\\nDrop missing:\")\n",
    "print(df_missing.dropna()) \n",
    "\n",
    "print(\"\\nFill missing with mean:\")\n",
    "print(df_missing.fillna(df_missing[\"value\"].mean())) \n"
   ]
  },
  {
   "cell_type": "code",
   "execution_count": 13,
   "id": "5bb868fd-d2be-4d20-aa6d-327ef8c8396f",
   "metadata": {},
   "outputs": [
    {
     "name": "stdout",
     "output_type": "stream",
     "text": [
      "\n",
      "Normalized mean values per event:\n",
      "event\n",
      "A    0.198925\n",
      "B    1.000000\n",
      "C    0.467742\n",
      "Name: value, dtype: float64\n"
     ]
    }
   ],
   "source": [
    "# --- 7. Groupby Operataion ---\n",
    "# Suppose you have multiple experimental runs, \n",
    "# compute average value per event,\n",
    "# then normalize by the maximum.\n",
    "\n",
    "grouped = df.groupby(\"event\")[\"value\"].mean()\n",
    "normalized = grouped / grouped.max()\n",
    "\n",
    "print(\"\\nNormalized mean values per event:\")\n",
    "print(normalized)\n"
   ]
  },
  {
   "cell_type": "code",
   "execution_count": 23,
   "id": "b611a61b-f99f-4c17-b981-fc69e9aa277b",
   "metadata": {},
   "outputs": [
    {
     "name": "stdout",
     "output_type": "stream",
     "text": [
      "Original df1:\n",
      "  event  value  error\n",
      "0     A     10    1.0\n",
      "1     B     20    2.0\n",
      "2     A     15    1.5\n",
      "3     C     30    3.0\n",
      "\n",
      "Drop rows by index (0,1):\n",
      "  event  value  error\n",
      "2     A     15    1.5\n",
      "3     C     30    3.0\n",
      "\n",
      "Drop 'error' column:\n",
      "  event  value\n",
      "0     A     10\n",
      "1     B     20\n",
      "2     A     15\n",
      "3     C     30\n",
      "\n",
      "Concatenate row-wise (axis=0):\n",
      "  event  value  error\n",
      "0     A     10    1.0\n",
      "1     B     20    2.0\n",
      "2     A     15    1.5\n",
      "3     C     30    3.0\n",
      "0     B     25    2.5\n",
      "1     A     12    1.2\n",
      "2     C     28    2.8\n",
      "3     A     18    2.9\n",
      "\n",
      "Reset index of df3:\n",
      "  event  value  error\n",
      "0     A     10    1.0\n",
      "1     B     20    2.0\n",
      "2     A     15    1.5\n",
      "3     C     30    3.0\n",
      "4     B     25    2.5\n",
      "5     A     12    1.2\n",
      "6     C     28    2.8\n",
      "7     A     18    2.9\n",
      "\n",
      "Concatenate column-wise (axis=1):\n",
      "  event  value  error event  value  error\n",
      "0     A     10    1.0     B     25    2.5\n",
      "1     B     20    2.0     A     12    1.2\n",
      "2     A     15    1.5     C     28    2.8\n",
      "3     C     30    3.0     A     18    2.9\n",
      "  evt1  val1  err1 evt2  val2  err2\n",
      "0    A    10   1.0    B    25   2.5\n",
      "1    B    20   2.0    A    12   1.2\n",
      "2    A    15   1.5    C    28   2.8\n",
      "3    C    30   3.0    A    18   2.9\n",
      "\n",
      "Row index of df1:\n",
      "RangeIndex(start=0, stop=4, step=1)\n",
      "\n",
      "Column labels of df1:\n",
      "Index(['event', 'value', 'error'], dtype='object')\n"
     ]
    }
   ],
   "source": [
    "# --- 8. Further DataFrame Operations ---\n",
    "import pandas as pd\n",
    "\n",
    "df1 = pd.DataFrame({\n",
    "    \"event\": [\"A\", \"B\", \"A\", \"C\"],\n",
    "    \"value\": [10, 20, 15, 30],\n",
    "    \"error\": [1.0, 2.0, 1.5, 3.0]\n",
    "})\n",
    "df2 = pd.DataFrame({\n",
    "    \"event\": [\"B\", \"A\", \"C\", \"A\"],\n",
    "    \"value\": [25, 12, 28, 18],\n",
    "    \"error\": [2.5, 1.2, 2.8, 2.9]\n",
    "})\n",
    "\n",
    "print(\"Original df1:\")\n",
    "print(df1)\n",
    "\n",
    "# Drop rows/columns\n",
    "print(\"\\nDrop rows by index (0,1):\")\n",
    "print(df1.drop([0, 1]))\n",
    "\n",
    "print(\"\\nDrop 'error' column:\")\n",
    "print(df1.drop(\"error\", axis=1))\n",
    "\n",
    "# Concatenate (row-wise)\n",
    "print(\"\\nConcatenate row-wise (axis=0):\")\n",
    "df3 = pd.concat([df1, df2], axis=0)\n",
    "print(df3)\n",
    "\n",
    "# Reset index\n",
    "print(\"\\nReset index of df3:\")\n",
    "print(df3.reset_index(drop=True))\n",
    "\n",
    "# Concatenate (column-wise)\n",
    "print(\"\\nConcatenate column-wise (axis=1):\")\n",
    "df4 = pd.concat([df1, df2], axis=1)\n",
    "print(df4)\n",
    "\n",
    "df4.columns = [\"evt1\", \"val1\", \"err1\", \"evt2\", \"val2\", \"err2\"]\n",
    "print(df4)\n",
    "\n",
    "# Index and Columns\n",
    "print(\"\\nRow index of df1:\")\n",
    "print(df1.index)\n",
    "\n",
    "print(\"\\nColumn labels of df1:\")\n",
    "print(df1.columns)"
   ]
  },
  {
   "cell_type": "code",
   "execution_count": null,
   "id": "a32c3989-0af4-479d-93b5-8f27c4739956",
   "metadata": {},
   "outputs": [],
   "source": []
  }
 ],
 "metadata": {
  "kernelspec": {
   "display_name": "Python (phys399)",
   "language": "python",
   "name": "phys399"
  },
  "language_info": {
   "codemirror_mode": {
    "name": "ipython",
    "version": 3
   },
   "file_extension": ".py",
   "mimetype": "text/x-python",
   "name": "python",
   "nbconvert_exporter": "python",
   "pygments_lexer": "ipython3",
   "version": "3.11.13"
  }
 },
 "nbformat": 4,
 "nbformat_minor": 5
}
