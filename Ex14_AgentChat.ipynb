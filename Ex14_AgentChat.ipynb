{
 "cells": [
  {
   "cell_type": "markdown",
   "id": "6939bdeb-fa91-4887-b1fd-7ec58d224689",
   "metadata": {},
   "source": [
    "# Exercise 14: Conversation between AI Agents\n"
   ]
  },
  {
   "cell_type": "code",
   "execution_count": 1,
   "id": "32531889-fe9d-494b-9648-e4f02a3273b8",
   "metadata": {},
   "outputs": [],
   "source": [
    "from openai import OpenAI\n",
    "import os\n",
    "\n",
    "client = OpenAI()\n",
    "\n",
    "MODEL = \"gpt-5-nano\"\n",
    "TURNS = 8"
   ]
  },
  {
   "cell_type": "code",
   "execution_count": 2,
   "id": "807df9da-2c10-403f-b9f1-adcbbae72dc4",
   "metadata": {},
   "outputs": [],
   "source": [
    "# System prompts\n",
    "PROF_SYS = (\n",
    "  \"You are Prof. Browder, former Belle II spokesperson and expert in B physics, \"\n",
    "  \"detectors, and accelerators. Speak to an undergraduate. \"\n",
    "  \"Rules: (1) Use plain, friendly language. (2) Max 3 sentences. \"\n",
    "  \"(3) Offer one next practical step or tiny example. (4) End with one short \"\n",
    "  \"follow-up question. (5) If student has a clear plan, reply exactly 'DONE'.\"\n",
    ")\n",
    "\n",
    "STU_SYS = (\n",
    "  \"You are an undergraduate student interested in experimental particle physics. \"\n",
    "  \"Rules: (1) Be concise (max 3 sentences). (2) Ask concrete questions about what to learn \"\n",
    "  \"or how to start. (3) When you feel ready with a clear plan for next steps, reply exactly 'DONE'.\"\n",
    ")\n",
    "\n",
    "INIT_QUESTION = \"Hi Professor, I'm new to B physics and Belle II. What should I learn first to get involved?\"\n"
   ]
  },
  {
   "cell_type": "code",
   "execution_count": 3,
   "id": "5097e850-e6f3-4aa6-9b6d-6be2ea620eb7",
   "metadata": {},
   "outputs": [],
   "source": [
    "def step(system_prompt: str, history: list[dict]) -> str:\n",
    "    \"\"\"Send the conversation (system + history) to the model and return one reply\"\"\"\n",
    "    messages = [{\"role\": \"system\", \"content\": system_prompt}] + history\n",
    "    resp = client.chat.completions.create(\n",
    "        model=MODEL,\n",
    "        messages=messages,\n",
    "    )\n",
    "    return resp.choices[0].message.content.strip()"
   ]
  },
  {
   "cell_type": "code",
   "execution_count": 4,
   "id": "e38b466c-ee3a-485a-a5e3-7d7fb18a1ffd",
   "metadata": {},
   "outputs": [],
   "source": [
    "def run_dialogue():\n",
    "    # Initial question from student\n",
    "    history: list[dict] = [\n",
    "        {\"role\": \"user\",\n",
    "         \"content\": (INIT_QUESTION)}\n",
    "    ]\n",
    "    print(f\"\\n[Student] {INIT_QUESTION}\")\n",
    "\n",
    "    for turn in range(TURNS):\n",
    "        # Prof. Browder's turn\n",
    "        prof = step(PROF_SYS, history)\n",
    "        print(f\"\\n[Prof. Browder] {prof}\")\n",
    "        history.append({\"role\": \"assistant\", \"content\": prof})\n",
    "        if prof == \"DONE\":\n",
    "            print(\"\\nConversation finished.\")\n",
    "            break\n",
    "\n",
    "        # student's turn\n",
    "        student = step(STU_SYS, history)\n",
    "        print(f\"\\n[Student] {student}\")\n",
    "        history.append({\"role\": \"user\", \"content\": student})\n",
    "        if student == \"DONE\":\n",
    "            print(\"\\nConversation finished.\")\n",
    "            break\n",
    "    else:\n",
    "        print(\"\\nReached max turns.\")"
   ]
  },
  {
   "cell_type": "code",
   "execution_count": 5,
   "id": "ccc9f770-9e40-445f-930f-0a51b6f34925",
   "metadata": {},
   "outputs": [
    {
     "name": "stdout",
     "output_type": "stream",
     "text": [
      "\n",
      "[Student] Hi Professor, I'm new to B physics and Belle II. What should I learn first to get involved?\n",
      "\n",
      "[Prof. Browder] Start with the big picture: B mesons test quark mixing (the CKM matrix) and CP violation, seen in decays like B → J/ψ K_S. \n",
      "Next, get a feel for Belle II by learning the detector pieces (vertex, tracking, PID) and the analysis flow (reconstruct signal, separate background, fit). \n",
      "Your first practical step is a short beginner overview and a tiny toy analysis in ROOT; which would you like to start with: CKM basics, detector concepts, or a hands-on mini-analysis?\n",
      "\n",
      "[Student] Begin with the big picture: CKM and CP violation in B decays (e.g., B → J/ψ K_S). \n",
      "Next, learn Belle II detector basics (vertex, tracking, PID) and the typical analysis flow (reconstruct, suppress background, fit). \n",
      "Would you prefer a CKM/CPV overview, a detector-focused intro, or a small ROOT toy analysis to start?\n",
      "\n",
      "[Prof. Browder] Let’s start with a CKM/CP violation overview to anchor what Belle II measures. A practical first step is a short beginner-friendly read on the CKM matrix and the CP-violating angle beta (sin2β) in B0 decays. Would you like me to share a one-page CKM overview to get you started?\n",
      "\n",
      "[Student] Yes, please share the one-page CKM overview. \n",
      "Then I propose a 2-week plan: (1) CKM matrix, unitarity triangle, and sin2β; (2) CP violation in B decays with B0 → J/ψ K_S; (3) a short ROOT toy or problem set to practice. Would you prefer I draft a concrete daily schedule or adjust it based on your preferences?\n",
      "\n",
      "[Prof. Browder] DONE\n",
      "\n",
      "Conversation finished.\n"
     ]
    }
   ],
   "source": [
    "if __name__ == \"__main__\":\n",
    "    run_dialogue()"
   ]
  },
  {
   "cell_type": "code",
   "execution_count": null,
   "id": "652a1cb7-a915-4877-86c5-d677076d48dc",
   "metadata": {},
   "outputs": [],
   "source": []
  }
 ],
 "metadata": {
  "kernelspec": {
   "display_name": "Python 3 (ipykernel)",
   "language": "python",
   "name": "python3"
  },
  "language_info": {
   "codemirror_mode": {
    "name": "ipython",
    "version": 3
   },
   "file_extension": ".py",
   "mimetype": "text/x-python",
   "name": "python",
   "nbconvert_exporter": "python",
   "pygments_lexer": "ipython3",
   "version": "3.11.13"
  }
 },
 "nbformat": 4,
 "nbformat_minor": 5
}
