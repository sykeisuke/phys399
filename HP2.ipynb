{
 "cells": [
  {
   "cell_type": "code",
   "execution_count": 1,
   "id": "645032d8",
   "metadata": {},
   "outputs": [],
   "source": [
    "from scipy import stats\n",
    "import numpy as np\n",
    "import plotly.express as px\n",
    "import ipywidgets as widgets"
   ]
  },
  {
   "cell_type": "code",
   "execution_count": 2,
   "id": "a47373cd",
   "metadata": {},
   "outputs": [],
   "source": [
    "def simulate_p_values(n_experiments=1000, n_tosses=50, p_true=0.5):\n",
    "    \"\"\"Simulate many coin experiments under the null hypothesis and collect p-values\"\"\"\n",
    "    p_values = []\n",
    "    binomial = stats.binom(n=n_tosses, p=p_true)\n",
    "    \n",
    "    for _ in range(n_experiments):\n",
    "        # Simulate one experiment: n_tosses of a fair coin\n",
    "        heads = binomial.rvs()\n",
    "        \n",
    "        # Calculate TWO-SIDED p-value: probability of result this extreme or more\n",
    "        # For binomial: min(P(X ≥ heads), P(X ≤ heads)) × 2\n",
    "        p_value = 1-binomial.cdf(heads)  # P(X ≥ heads)\n",
    "        p_value_other_side = binomial.cdf(heads)  # P(X ≤ heads)\n",
    "        two_sided_p = 2 * min(p_value, p_value_other_side)\n",
    "        p_values.append(two_sided_p)\n",
    "    \n",
    "    return np.array(p_values)"
   ]
  },
  {
   "cell_type": "code",
   "execution_count": 3,
   "id": "00ef3005",
   "metadata": {},
   "outputs": [
    {
     "data": {
      "text/plain": [
       "array([0.11892045, 0.03283914, 0.47988766])"
      ]
     },
     "execution_count": 3,
     "metadata": {},
     "output_type": "execute_result"
    }
   ],
   "source": [
    "# Run simulation\n",
    "simulate_p_values(n_experiments=3)"
   ]
  },
  {
   "cell_type": "code",
   "execution_count": 4,
   "id": "72a60e10",
   "metadata": {},
   "outputs": [],
   "source": [
    "def simulate_p_values(n_experiments=1000, n_tosses=50, p_true=0.5):\n",
    "    \"\"\"Simulate many coin experiments under the null hypothesis and collect p-values\"\"\"\n",
    "    test_coin = stats.binom(n=n_tosses, p=p_true)    \n",
    "    fair_coin = stats.binom(n=n_tosses, p=0.5)    \n",
    "\n",
    "    # Simulate one experiment: n_tosses of a fair coin\n",
    "    heads = test_coin.rvs(n_experiments)\n",
    "    #heads = np.random.binomial(n_tosses, p_true, n_experiments)\n",
    "    \n",
    "    # Calculate TWO-SIDED p-value: probability of result this extreme or more\n",
    "    # For binomial: min(P(X ≥ heads), P(X ≤ heads)) × 2\n",
    "    p_value = 1-fair_coin.cdf(heads)  # P(X ≥ heads)\n",
    "    p_value_other_side = fair_coin.cdf(heads)  # P(X ≤ heads)\n",
    "    two_sided_p = 2 * np.min([p_value, p_value_other_side], axis=0)\n",
    "\n",
    "    return two_sided_p"
   ]
  },
  {
   "cell_type": "code",
   "execution_count": 5,
   "id": "67be20fa",
   "metadata": {},
   "outputs": [
    {
     "name": "stdout",
     "output_type": "stream",
     "text": [
      "Type I Error Rate is : 0.26\n"
     ]
    }
   ],
   "source": [
    "true_H0_pvalues = simulate_p_values(1000000, 50, 0.5)\n",
    "significance_level  = 0.25\n",
    "type_i_error_rate = len(true_H0_pvalues[true_H0_pvalues<significance_level])/len(true_H0_pvalues)\n",
    "\n",
    "print(f'Type I Error Rate is : {type_i_error_rate:.2f}')"
   ]
  },
  {
   "cell_type": "code",
   "execution_count": 6,
   "id": "8cb66d21",
   "metadata": {},
   "outputs": [
    {
     "data": {
      "application/vnd.jupyter.widget-view+json": {
       "model_id": "bcc3e00f1ca5470f8b63aabc2101fa70",
       "version_major": 2,
       "version_minor": 0
      },
      "text/plain": [
       "interactive(children=(IntSlider(value=1000, description='n_experiments', max=200000, min=100, step=100), IntSl…"
      ]
     },
     "metadata": {},
     "output_type": "display_data"
    },
    {
     "data": {
      "text/plain": [
       "<function __main__.plot_p_value_distribution(n_experiments=1000, n_tosses=50, alpha=0.05)>"
      ]
     },
     "execution_count": 6,
     "metadata": {},
     "output_type": "execute_result"
    }
   ],
   "source": [
    "def plot_p_value_distribution(n_experiments=1000, n_tosses=50, alpha=0.05):\n",
    "    p_values = simulate_p_values(n_experiments, n_tosses)    \n",
    "    fig = px.histogram(\n",
    "        x=p_values, \n",
    "        nbins=20, \n",
    "        title=f\"Distribution of P-values under Null Hypothesis (Fair Coin)<br>n_tosses={n_tosses}, α={alpha}\",\n",
    "        labels={'x': 'P-value', 'y': 'Count'})\n",
    "    # Add significance level line\n",
    "    fig.add_vline(x=alpha, line_dash=\"dash\", line_color=\"red\", \n",
    "                  annotation_text=f\"α = {alpha:.2f}\", annotation_position=\"top right\")\n",
    "    # Color the rejection region\n",
    "    fig.add_vrect(x0=0, x1=alpha, fillcolor=\"red\", opacity=0.2, \n",
    "                  annotation_text=\"Rejection<br>Region\", annotation_position=\"top left\")\n",
    "    # Calculate empirical Type I error rate\n",
    "    type_i_rate = sum(np.array(p_values) <= alpha) / len(p_values)\n",
    "    fig.add_annotation(text=f\"Empirical Type I Error Rate: {type_i_rate:.3f}\",\n",
    "                      xref=\"paper\", yref=\"paper\", x=0.95, y=0.95, showarrow=False)\n",
    "    fig.update_traces(xbins=dict(start=0, end=1, size=0.2)) # Fixed bin size   \n",
    "    return fig\n",
    "\n",
    "# Make it interactive!\n",
    "widgets.interact(plot_p_value_distribution, \n",
    "                 n_experiments=widgets.IntSlider(min=100, max=200_000, value=1000, step=100),\n",
    "                 n_tosses=widgets.IntSlider(min=10, max=200, value=50, step=10),\n",
    "                 alpha=widgets.FloatSlider(min=0.01, max=0.2, value=0.05, step=0.01))"
   ]
  },
  {
   "cell_type": "code",
   "execution_count": 7,
   "id": "821826cd",
   "metadata": {},
   "outputs": [
    {
     "data": {
      "application/vnd.jupyter.widget-view+json": {
       "model_id": "7914a90c32da4b93a9f7629941e1cc07",
       "version_major": 2,
       "version_minor": 0
      },
      "text/plain": [
       "interactive(children=(IntSlider(value=1000, description='n_experiments', max=20000, min=100, step=100), IntSli…"
      ]
     },
     "metadata": {},
     "output_type": "display_data"
    },
    {
     "data": {
      "text/plain": [
       "<function __main__.plot_p_value_distribution(n_experiments=1000, n_tosses=50, alpha=0.05, p_true=0.5)>"
      ]
     },
     "execution_count": 7,
     "metadata": {},
     "output_type": "execute_result"
    }
   ],
   "source": [
    "def plot_p_value_distribution(n_experiments=1000, n_tosses=50, alpha=0.05, p_true=0.5):\n",
    "    p_values = simulate_p_values(n_experiments, n_tosses, p_true)    \n",
    "    fig = px.histogram(\n",
    "        x=p_values, \n",
    "        nbins=20, \n",
    "        title=f\"Distribution of P-values under p={p_true:.2f} <br>n_tosses={n_tosses}, α={alpha}\",\n",
    "        labels={'x': 'P-value', 'y': 'Count'})\n",
    "    # Add significance level line\n",
    "    fig.add_vline(x=alpha, line_dash=\"dash\", line_color=\"red\", \n",
    "                  annotation_text=f\"α = {alpha:.2f}\", annotation_position=\"top right\")\n",
    "    # Color the rejection region\n",
    "    fig.add_vrect(x0=0, x1=alpha, fillcolor=\"red\", opacity=0.2, \n",
    "                  annotation_text=\"Rejection<br>Region\", annotation_position=\"top left\")\n",
    "    # Calculate empirical Type II error rate\n",
    "    type_ii_rate = sum(np.array(p_values) >= alpha) / len(p_values)\n",
    "    fig.add_annotation(text=f\"Empirical Type II Error Rate: {type_ii_rate:.3f}\",\n",
    "                      xref=\"paper\", yref=\"paper\", x=0.95, y=0.95, showarrow=False)\n",
    "    fig.update_traces(xbins=dict(start=0, end=1, size=0.1)) # Fixed bin size   \n",
    "    return fig\n",
    "\n",
    "# Make it interactive!\n",
    "widgets.interact(plot_p_value_distribution, \n",
    "                 n_experiments=widgets.IntSlider(min=100, max=20_000, value=1000, step=100),\n",
    "                 n_tosses=widgets.IntSlider(min=10, max=500, value=50, step=10),\n",
    "                 alpha=widgets.FloatSlider(min=0.01, max=0.2, value=0.05, step=0.01),\n",
    "                 p_true=widgets.FloatSlider(min=0.01, max=1, value=0.5, step=0.01),\n",
    "                 )"
   ]
  }
 ],
 "metadata": {
  "kernelspec": {
   "display_name": "pytest",
   "language": "python",
   "name": "python3"
  },
  "language_info": {
   "codemirror_mode": {
    "name": "ipython",
    "version": 3
   },
   "file_extension": ".py",
   "mimetype": "text/x-python",
   "name": "python",
   "nbconvert_exporter": "python",
   "pygments_lexer": "ipython3",
   "version": "3.9.23"
  }
 },
 "nbformat": 4,
 "nbformat_minor": 5
}
